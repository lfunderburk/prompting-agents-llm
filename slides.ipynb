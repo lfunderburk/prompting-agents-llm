{
 "cells": [
  {
   "cell_type": "markdown",
   "id": "7c18c8a3",
   "metadata": {
    "slideshow": {
     "slide_type": "slide"
    }
   },
   "source": [
    "<h1 align='center'>Prompts & Agents</h1>\n",
    "\n",
    "<h2 align='center'>How to incorporate prompting into your Python scripts <br>and expand their functionality through agents</h2>\n",
    "\n",
    "<h2 align='center'>Laura Funderburk</h2>\n",
    "\n",
    "<h2 align='center'>PyData Vancouver</h2>"
   ]
  },
  {
   "cell_type": "markdown",
   "id": "be80b748",
   "metadata": {
    "slideshow": {
     "slide_type": "slide"
    }
   },
   "source": [
    "<h1 align='center'>Talk at a glance</h1>\n",
    "\n",
    "<h2 align='center'>Part I: Prompting (25 minutes)</h2>\n",
    "\n",
    "\n",
    "1. LLMs use cases and tasks\n",
    "2. The Generative AI project lifecycle \n",
    "3. Choosing the right LLM for the desired task\n",
    "4. Key elements of prompting\n",
    "5. Prompting techniques: zero-shot inference, one-shot inference, few-shot inference vs Chain of Thought \n",
    "6. Prompting private LLMs (OpenAI API): `ChatCompletion`\n",
    "7. Roles in the `ChatCompletion` end point (system, user, assistant) and context within prompting\n",
    "8. Prompting open source LLMs through HuggingFace (google/flan-t5-base)\n",
    "\n",
    "\n",
    "Q&A about prompting (5 minutes)"
   ]
  },
  {
   "cell_type": "markdown",
   "id": "7d6bc99d",
   "metadata": {
    "slideshow": {
     "slide_type": "subslide"
    }
   },
   "source": [
    "<h1 align='center'>Talk at a glance</h1>\n",
    "\n",
    "<h2 align='center'>Part II: Incorporating agents (25 minutes)</h2>\n",
    "\n",
    "\n",
    "1. (Some) Applications of agents\n",
    "2. Introduction to Haystack\n",
    "3. Introduction to LangChain\n",
    "4. Which one to pick\n",
    "5. Techniques to combine prompting and agents\n",
    "\n",
    "Q&A about agents (5 minutes)"
   ]
  },
  {
   "cell_type": "markdown",
   "id": "5d4370d0",
   "metadata": {
    "slideshow": {
     "slide_type": "slide"
    }
   },
   "source": [
    "<h1 align='center'>LLMs use cases and tasks</h1>\n"
   ]
  },
  {
   "cell_type": "markdown",
   "id": "ed8f6595",
   "metadata": {
    "slideshow": {
     "slide_type": "slide"
    }
   },
   "source": [
    "<h1 align='center'>The generative AI project lifecycle</h1>\n",
    "\n",
    "<p></p>\n",
    "\n",
    "<center>\n",
    "  <img src=\"diagrams/genai_project_lifecycle.jpg\" width=\"1500px\"/>\n",
    "\n",
    "</center>"
   ]
  },
  {
   "cell_type": "markdown",
   "id": "a0ecc728",
   "metadata": {
    "slideshow": {
     "slide_type": "subslide"
    }
   },
   "source": [
    "<h1 align='center'>Focus of this talk</h1>\n",
    "\n",
    "<p></p>\n",
    "<center>\n",
    "  <img src=\"diagrams/genai_project_lifecycle_focus.jpg\" width=\"1500px\"/>\n",
    "\n",
    "</center>"
   ]
  },
  {
   "cell_type": "markdown",
   "id": "1e68a8bd",
   "metadata": {
    "slideshow": {
     "slide_type": "slide"
    }
   },
   "source": [
    "<h1 align='center'>Choosing the right LLM for the desired task</h1>\n",
    "\n",
    "\n"
   ]
  },
  {
   "cell_type": "markdown",
   "id": "781c31ef",
   "metadata": {
    "slideshow": {
     "slide_type": "slide"
    }
   },
   "source": [
    "<h1 align='center'>Key elements of prompting</h1>\n",
    "\n"
   ]
  },
  {
   "cell_type": "markdown",
   "id": "00c2b5e7",
   "metadata": {
    "slideshow": {
     "slide_type": "slide"
    }
   },
   "source": [
    "<h1 align='center'>Prompting techniques</h1>\n",
    "\n",
    "zero-shot inference, one-shot inference, few-shot inference vs Chain of Thought \n",
    "\n"
   ]
  },
  {
   "cell_type": "markdown",
   "id": "66c64015",
   "metadata": {
    "slideshow": {
     "slide_type": "slide"
    }
   },
   "source": [
    "<h1 align='center'>Prompting private LLMs (OpenAI API)</h1>\n",
    "\n",
    "\n",
    "` ChatCompletion`"
   ]
  },
  {
   "cell_type": "markdown",
   "id": "6950ed4b",
   "metadata": {
    "slideshow": {
     "slide_type": "slide"
    }
   },
   "source": [
    "<h1 align='center'>Roles in prompting the ChatCompletion endpoint</h1>\n",
    "\n"
   ]
  },
  {
   "cell_type": "markdown",
   "id": "3ab5666a",
   "metadata": {
    "slideshow": {
     "slide_type": "slide"
    }
   },
   "source": [
    "<h1 align='center'>Prompting open source LLMs through HuggingFace (google/flan-t5-base)</h1>\n"
   ]
  },
  {
   "cell_type": "code",
   "execution_count": 54,
   "id": "94275820",
   "metadata": {
    "slideshow": {
     "slide_type": "skip"
    }
   },
   "outputs": [],
   "source": [
    "from datasets import load_dataset\n",
    "from transformers import AutoModelForSeq2SeqLM\n",
    "from transformers import AutoTokenizer\n",
    "from transformers import GenerationConfig\n",
    "import transformers\n",
    "import torch\n",
    "from dotenv import load_dotenv\n",
    "import os\n",
    "import openai\n",
    "\n",
    "load_dotenv(\".env\")\n",
    "\n",
    "open_ai_key = os.environ.get(\"openai-key\")\n",
    "\n",
    " "
   ]
  },
  {
   "cell_type": "code",
   "execution_count": 21,
   "id": "eedfce60",
   "metadata": {},
   "outputs": [],
   "source": [
    "import banking  # noqa: E402\n",
    "\n",
    "_ = banking.BankingData(\"https://tinyurl.com/jb-bank\", \"bank\")\n",
    "_.extract_to_csv()"
   ]
  },
  {
   "cell_type": "code",
   "execution_count": 108,
   "id": "21ae6467",
   "metadata": {},
   "outputs": [],
   "source": [
    "class Prompter:\n",
    "    def __init__(self, api_key, gpt_model, temperature=0.2):\n",
    "        if not api_key:\n",
    "            raise Exception(\"Please provide the OpenAI API key\")\n",
    "\n",
    "        self.api_key  = api_key\n",
    "        self.gpt_model = gpt_model\n",
    "        self.temperature = temperature\n",
    "    \n",
    "    def prompt_model_return(self, messages: list):\n",
    "        openai.api_key = self.api_key\n",
    "        response = openai.ChatCompletion.create(model=self.gpt_model, \n",
    "                                                messages=messages,\n",
    "                                                temperature=self.temperature)\n",
    "        return response[\"choices\"][0][\"message\"][\"content\"]\n",
    "    \n",
    "    def natural_language_to_sql(self, db_name:str, schema:str, natural_question:str):\n",
    "\n",
    "        system_content = f\"You are a data analyst, and you specialize in solving business questions with SQL.\\\n",
    "                        You are given a natural language question, and your role is to translate the question\\\n",
    "                        into a query that can be executed against a database. \\\n",
    "                        Ensure your queries are written in a single line, with no special characters\"\n",
    "        user_content = f\"Please generate a SQL query for data with in a database named {db_name}\\\n",
    "                        along with a schema {schema} for the question {natural_question}\"\n",
    "\n",
    "        full_prompts = [\n",
    "                                {\"role\" : \"system\", \"content\" : system_content},\n",
    "                                {\"role\" : \"user\", \"content\" : user_content},\n",
    "                                ]\n",
    "        \n",
    "        result = self.prompt_model_return(full_prompts)\n",
    "\n",
    "        return result"
   ]
  },
  {
   "cell_type": "code",
   "execution_count": 101,
   "id": "27347cf1",
   "metadata": {},
   "outputs": [],
   "source": [
    "class OpenSourcePrompter:\n",
    "    def __init__(self, model_name):\n",
    "        self.model_name = model_name\n",
    "        \n",
    "    def call_model(self, full_prompt):\n",
    "        model = AutoModelForSeq2SeqLM.from_pretrained(self.model_name)\n",
    "        tokenizer = AutoTokenizer.from_pretrained(self.model_name, use_fast=True)\n",
    "        \n",
    "        inputs = tokenizer(full_prompt, return_tensors='pt')\n",
    "        output = tokenizer.decode(\n",
    "            model.generate(\n",
    "                inputs[\"input_ids\"], \n",
    "                max_new_tokens=50,\n",
    "            )[0], \n",
    "            skip_special_tokens=True\n",
    "        )\n",
    "        \n",
    "        return output\n",
    "        \n",
    "    def natural_language_to_sql(self, db_name:str, schema:list, natural_question:str):\n",
    "\n",
    "        prompt = f\"Given the natural language question {natural_question}\\\n",
    "                        the database table {db_name}, \\\n",
    "                        and the table schema {', '.join(schema)}\\\n",
    "                        generate a SQL query that answers the question {natural_question}\"\n",
    "\n",
    "    \n",
    "        result = self.call_model(prompt)\n",
    "\n",
    "        return result"
   ]
  },
  {
   "cell_type": "code",
   "execution_count": 91,
   "id": "dbef0e64",
   "metadata": {},
   "outputs": [],
   "source": [
    "# Loading in SQL extension\n",
    "%reload_ext sql\n",
    "# Initiating a DuckDB database named 'bank.duck.db' to run our SQL queries on\n",
    "%sql duckdb:///bank.duck.db"
   ]
  },
  {
   "cell_type": "code",
   "execution_count": 92,
   "id": "128ecf28",
   "metadata": {},
   "outputs": [
    {
     "data": {
      "text/html": [
       "<span style=\"None\">Running query in &#x27;duckdb:///bank.duck.db&#x27;</span>"
      ],
      "text/plain": [
       "Running query in 'duckdb:///bank.duck.db'"
      ]
     },
     "metadata": {},
     "output_type": "display_data"
    },
    {
     "data": {
      "text/html": [
       "<table>\n",
       "    <thead>\n",
       "        <tr>\n",
       "            <th>Count</th>\n",
       "        </tr>\n",
       "    </thead>\n",
       "    <tbody>\n",
       "        <tr>\n",
       "            <td>4521</td>\n",
       "        </tr>\n",
       "    </tbody>\n",
       "</table>"
      ],
      "text/plain": [
       "+-------+\n",
       "| Count |\n",
       "+-------+\n",
       "|  4521 |\n",
       "+-------+"
      ]
     },
     "execution_count": 92,
     "metadata": {},
     "output_type": "execute_result"
    }
   ],
   "source": [
    "%%sql\n",
    "CREATE OR REPLACE TABLE bank AS\n",
    "FROM read_csv_auto('bank_cleaned.csv', header=True, sep=',')"
   ]
  },
  {
   "cell_type": "code",
   "execution_count": 93,
   "id": "63cd5b8c",
   "metadata": {},
   "outputs": [
    {
     "data": {
      "text/html": [
       "<span style=\"None\">Running query in &#x27;duckdb:///bank.duck.db&#x27;</span>"
      ],
      "text/plain": [
       "Running query in 'duckdb:///bank.duck.db'"
      ]
     },
     "metadata": {},
     "output_type": "display_data"
    }
   ],
   "source": [
    "columns = %sql PRAGMA table_info('bank');\n",
    "\n",
    "# Extract column names\n",
    "column_names = [row[1] for row in columns]"
   ]
  },
  {
   "cell_type": "code",
   "execution_count": 109,
   "id": "8f340c35",
   "metadata": {},
   "outputs": [
    {
     "data": {
      "text/plain": [
       "'SELECT COUNT(*) FROM bank;'"
      ]
     },
     "execution_count": 109,
     "metadata": {},
     "output_type": "execute_result"
    }
   ],
   "source": [
    "pm  = Prompter(open_ai_key, \"gpt-4\")\n",
    "\n",
    "pm.natural_language_to_sql(\"bank\", column_names, \"How many records are there?\")"
   ]
  },
  {
   "cell_type": "code",
   "execution_count": 106,
   "id": "6507b117",
   "metadata": {},
   "outputs": [],
   "source": [
    "opm = OpenSourcePrompter(\"google/flan-t5-base\")"
   ]
  },
  {
   "cell_type": "code",
   "execution_count": 107,
   "id": "8b0951c5",
   "metadata": {
    "scrolled": true
   },
   "outputs": [
    {
     "data": {
      "text/plain": [
       "'Count the number of records in the database table bank: age, job, marital, education, default, balance, housing, loan, contact, day, month, duration, campaign, pdays, previous, poutcome'"
      ]
     },
     "execution_count": 107,
     "metadata": {},
     "output_type": "execute_result"
    }
   ],
   "source": [
    "opm.natural_language_to_sql(\"bank\", column_names, \"How many records are there?\")"
   ]
  },
  {
   "cell_type": "code",
   "execution_count": 28,
   "id": "689c0e19",
   "metadata": {},
   "outputs": [
    {
     "data": {
      "text/html": [
       "\n",
       "    <style>.sort-button {\n",
       "    background: none;\n",
       "    border: none;\n",
       "}\n",
       "\n",
       ".sort-button.selected {\n",
       "    background: #efefef;\n",
       "    border: 1px solid #767676;\n",
       "}\n",
       "\n",
       ".pages-buttons button.selected {\n",
       "    background: #efefef;\n",
       "    border: 1px solid #767676;\n",
       "    border-radius: 2px;\n",
       "}\n",
       ".pages-buttons button {\n",
       "    background: none;\n",
       "    border: none;\n",
       "    padding: 0 10px;\n",
       "}\n",
       ".jupysql-table-widget {\n",
       "    display: inline;\n",
       "}</style>\n",
       "    \n",
       "            <div id=\"tableContainer_1689131854\" class=\"table-container\"></div>\n",
       "            \n",
       "    <script>function isJupyterNotebook() {\n",
       "    return window[\"Jupyter\"];\n",
       "}\n",
       "\n",
       "function getTable(element) {\n",
       "    let table;\n",
       "    if (element) {\n",
       "        const tableContainer = element.closest(\".table-container\");\n",
       "        table = tableContainer.querySelector(\"table\");\n",
       "    } else {\n",
       "        const _isJupyterNotebook = isJupyterNotebook();\n",
       "        if (_isJupyterNotebook) {\n",
       "            table = document.querySelector(\".selected .table-container table\");\n",
       "        } else {\n",
       "            table = document.querySelector(\".jp-Cell.jp-mod-active .table-container table\");\n",
       "        }\n",
       "    }\n",
       "\n",
       "    return table;\n",
       "}\n",
       "\n",
       "function getSortDetails() {\n",
       "    let sort = undefined;\n",
       "\n",
       "    const table = getTable();\n",
       "    if (table) {\n",
       "        const column = table.getAttribute(\"sort-by-column\");\n",
       "        const order = table.getAttribute(\"sort-by-order\");\n",
       "\n",
       "        if (column && order) {\n",
       "            sort = {\n",
       "                \"column\" : column,\n",
       "                \"order\" : order\n",
       "            }\n",
       "        }\n",
       "    }\n",
       "\n",
       "    return sort;\n",
       "}\n",
       "\n",
       "function sortColumnClick(element, column, order, callback) {\n",
       "    // fetch data with sort logic\n",
       "    const table = getTable(element);\n",
       "    table.setAttribute(\"sort-by-column\", column);\n",
       "    table.setAttribute(\"sort-by-order\", order);\n",
       "    const rowsPerPage = table.getAttribute(\"rows-per-page\");\n",
       "    const currrPage = table.getAttribute(\"curr-page-idx\");\n",
       "\n",
       "    const sort = {\n",
       "        'column' : column,\n",
       "        'order' : order\n",
       "    }\n",
       "\n",
       "    const fetchParameters = {\n",
       "        rowsPerPage : parseInt(rowsPerPage),\n",
       "        page : parseInt(currrPage),\n",
       "        sort : sort,\n",
       "        table : table.getAttribute(\"table-name\")\n",
       "    }\n",
       "\n",
       "    fetchTableData(fetchParameters, callback)\n",
       "}\n",
       "\n",
       "function fetchTableData(fetchParameters, callback) {\n",
       "    \n",
       "    sendObject = {\n",
       "        'nRows' : fetchParameters.rowsPerPage,\n",
       "        'page': fetchParameters.page,\n",
       "        'table' : fetchParameters.table\n",
       "    }\n",
       "\n",
       "    if (fetchParameters.sort) {\n",
       "        sendObject.sort = fetchParameters.sort\n",
       "    }\n",
       "\n",
       "    const _isJupyterNotebook = isJupyterNotebook();\n",
       "\n",
       "\n",
       "    if (_isJupyterNotebook) {\n",
       "        // for Jupyter Notebook\n",
       "        const comm =\n",
       "        Jupyter.notebook.kernel.comm_manager.new_comm('comm_target_handle_table_widget', {})\n",
       "        comm.send(sendObject)\n",
       "        comm.on_msg(function(msg) {\n",
       "            const rows = JSON.parse(msg.content.data['rows']);\n",
       "            if (callback) {\n",
       "                callback(rows)\n",
       "            }\n",
       "        });\n",
       "    } else{\n",
       "        // for JupyterLab\n",
       "        dispatchEventToKernel(sendObject)\n",
       "\n",
       "        const controller = new AbortController();\n",
       "    \n",
       "        document.addEventListener('onTableWidgetRowsReady', (customEvent) => {\n",
       "            const rows = JSON.parse(customEvent.detail.data.rows)\n",
       "            controller.abort()\n",
       "            if (callback) {\n",
       "                callback(rows)\n",
       "            }\n",
       "        }, {signal: controller.signal})\n",
       "    }\n",
       "\n",
       "\n",
       "}\n",
       "\n",
       "\n",
       "function dispatchEventToKernel(data) {\n",
       "    let customEvent = new CustomEvent('onUpdateTableWidget', {\n",
       "    bubbles: true,\n",
       "    cancelable: true,\n",
       "    composed: false,\n",
       "    detail : {\n",
       "        data : data\n",
       "    }\n",
       "    });\n",
       "    document.body.dispatchEvent(customEvent)\n",
       "}         \n",
       "\n",
       "function handleRowsNumberOfRowsChange(e) {\n",
       "    const rowsPerPage = parseInt(e.value);\n",
       "    let table = getTable();\n",
       "    table.setAttribute('rows-per-page', rowsPerPage);\n",
       "\n",
       "    const nTotal = table.getAttribute('n-total');\n",
       "\n",
       "    const maxPages = Math.ceil(nTotal / rowsPerPage)\n",
       "    table.setAttribute('max-pages', maxPages);\n",
       "\n",
       "    const fetchParameters = {\n",
       "        rowsPerPage : rowsPerPage,\n",
       "        page : 0,\n",
       "        sort : getSortDetails(),\n",
       "        table : table.getAttribute(\"table-name\")\n",
       "    }\n",
       "\n",
       "    setTimeout(() => {\n",
       "        fetchTableData(fetchParameters, (rows) => {\n",
       "            updateTable(rows);\n",
       "        })\n",
       "    }, 100);\n",
       "}\n",
       "\n",
       "function updateTable(rows, currPage, tableToUpdate) {\n",
       "    const table = tableToUpdate || getTable();\n",
       "    const trs = table.querySelectorAll(\"tbody tr\");\n",
       "    const tbody = table.querySelector(\"tbody\");\n",
       "    tbody.innerHTML = \"\";\n",
       "\n",
       "    const _html = createTableRows(rows)\n",
       "\n",
       "    tbody.innerHTML = _html\n",
       "\n",
       "    setTimeout(() => {\n",
       "        updatePaginationBar(table, currPage || 0)\n",
       "    }, 100)\n",
       "}\n",
       "\n",
       "function createTableRows(rows) {\n",
       "    const _html = rows.map(function(row) {\n",
       "        const tds =\n",
       "        Object.keys(row).map(function(key) {\n",
       "\n",
       "            return \"<td>\" + row[key] + \"</td>\"\n",
       "        }).join(\"\") ;\n",
       "        return \"<tr>\" + tds + \"</tr>\";\n",
       "    }).join(\"\");\n",
       "\n",
       "    return _html\n",
       "}\n",
       "\n",
       "function showTablePage(page, rowsPerPage, data) {\n",
       "    const table = getTable();\n",
       "    const trs = table.querySelectorAll(\"tbody tr\");\n",
       "    const tbody = table.querySelector(\"tbody\");\n",
       "    tbody.innerHTML = \"\";\n",
       "\n",
       "    const rows = data;\n",
       "    const startIndex = page * rowsPerPage;\n",
       "    const endIndex = startIndex + rowsPerPage;\n",
       "    const _html = rows.map(row => {\n",
       "        const tds =\n",
       "        Object.keys(row).map(key => `<td>${row[key]}</td>`).join(\"\");\n",
       "        return `<tr>${tds}</tr>`;\n",
       "    }).join(\"\");\n",
       "\n",
       "    tbody.innerHTML = _html;\n",
       "\n",
       "    table.setAttribute(\"curr-page-idx\", page);\n",
       "    updatePaginationBar(table, page);\n",
       "}\n",
       "\n",
       "function nextPageClick(element) {\n",
       "    const table = getTable(element);\n",
       "    const currPageIndex = parseInt(table.getAttribute(\"curr-page-idx\"));\n",
       "    const rowsPerPage = parseInt(table.getAttribute(\"rows-per-page\"));\n",
       "    const maxPages = parseInt(table.getAttribute(\"max-pages\"));\n",
       "\n",
       "    const nextPage = currPageIndex + 1;\n",
       "    if (nextPage < maxPages) {\n",
       "        const fetchParameters = {\n",
       "            rowsPerPage : rowsPerPage,\n",
       "            page : nextPage,\n",
       "            sort : getSortDetails(),\n",
       "            table : table.getAttribute(\"table-name\")\n",
       "        }\n",
       "\n",
       "        fetchTableData(fetchParameters, (rows) => {\n",
       "            showTablePage(nextPage, rowsPerPage, rows)\n",
       "        });\n",
       "    }\n",
       "\n",
       "}\n",
       "\n",
       "function prevPageClick() {\n",
       "    const table = getTable();\n",
       "    const currPageIndex = parseInt(table.getAttribute(\"curr-page-idx\"));\n",
       "    const rowsPerPage = parseInt(table.getAttribute(\"rows-per-page\"));\n",
       "    const prevPage = currPageIndex - 1;\n",
       "    if (prevPage >= 0) {\n",
       "        const fetchParameters = {\n",
       "            rowsPerPage : rowsPerPage,\n",
       "            page : prevPage,\n",
       "            sort : getSortDetails(),\n",
       "            table : table.getAttribute(\"table-name\")\n",
       "        }\n",
       "\n",
       "        fetchTableData(fetchParameters, (rows) => {\n",
       "            showTablePage(prevPage, rowsPerPage, rows)\n",
       "        });\n",
       "    }\n",
       "}\n",
       "\n",
       "function setPageButton(table, label, navigateTo, isSelected) {\n",
       "    const rowsPerPage = parseInt(table.getAttribute(\"rows-per-page\"));\n",
       "    const selected = isSelected ? \"selected\" : \"\";\n",
       "\n",
       "    const button = `\n",
       "    <button class=\"${selected}\"\n",
       "            onclick=\"\n",
       "            fetchTableData({\n",
       "                rowsPerPage : ${rowsPerPage},\n",
       "                page : ${navigateTo},\n",
       "                sort : getSortDetails(),\n",
       "                table : getTable(this).getAttribute('table-name')\n",
       "            },\n",
       "            (rows) => {\n",
       "                showTablePage(${navigateTo}, ${rowsPerPage}, rows);\n",
       "                })\"\n",
       "    >\n",
       "        ${label}\n",
       "    </button>\n",
       "    `\n",
       "    return button;\n",
       "}\n",
       "\n",
       "function updatePaginationBar(table, currPage) {\n",
       "    const maxPages = parseInt(table.getAttribute(\"max-pages\"));\n",
       "    const maxPagesInRow = 6;\n",
       "    const rowsPerPage = parseInt(table.getAttribute(\"rows-per-page\"));\n",
       "    table.setAttribute(\"curr-page-idx\", currPage);\n",
       "\n",
       "    let buttonsArray = []\n",
       "\n",
       "    let startEllipsisAdded = false\n",
       "    let endEllipsisAdded = false\n",
       "\n",
       "    // add first\n",
       "    let selected = currPage === 0;\n",
       "    buttonsArray.push(setPageButton(table, \"1\", 0, selected));\n",
       "\n",
       "    for (i = 1; i < maxPages - 1; i++) {\n",
       "        const navigateTo = i;\n",
       "        const label = i + 1;\n",
       "        selected = currPage === i;\n",
       "        const inStartRange = currPage < maxPagesInRow;\n",
       "        const inEndRange = maxPages - 1 - currPage < maxPagesInRow;\n",
       "\n",
       "        if (inStartRange) {\n",
       "            if (i < maxPagesInRow) {\n",
       "                buttonsArray\n",
       "                .push(setPageButton(table, label, navigateTo, selected));\n",
       "            } else {\n",
       "            if (!startEllipsisAdded) {\n",
       "                buttonsArray.push(\"...\");\n",
       "                startEllipsisAdded = true;\n",
       "            }\n",
       "            }\n",
       "        } else if (inEndRange) {\n",
       "            if (maxPages - 1 - i < maxPagesInRow) {\n",
       "                buttonsArray\n",
       "                .push(setPageButton(table, label, navigateTo, selected));\n",
       "            } else {\n",
       "            if (!endEllipsisAdded) {\n",
       "                buttonsArray.push(\"...\");\n",
       "                endEllipsisAdded = true;\n",
       "            }\n",
       "            }\n",
       "        }\n",
       "\n",
       "        if (!inStartRange && !inEndRange) {\n",
       "            if (currPage === i-2) {\n",
       "                buttonsArray.push(\"...\");\n",
       "            }\n",
       "            if (\n",
       "                currPage === i - 1 ||\n",
       "                currPage === i ||\n",
       "                currPage === i + 1\n",
       "            ) {\n",
       "                buttonsArray\n",
       "                .push(setPageButton(table, label, navigateTo, selected))\n",
       "            }\n",
       "\n",
       "            if (currPage === i+2) {\n",
       "                buttonsArray.push(\"...\");\n",
       "            }\n",
       "\n",
       "        }\n",
       "    }\n",
       "\n",
       "    selected = currPage === maxPages - 1 ? \"selected\" : \"\";\n",
       "\n",
       "    buttonsArray.\n",
       "    push(setPageButton(table, maxPages, maxPages - 1, selected))\n",
       "\n",
       "    const buttonsHtml = buttonsArray.join(\"\");\n",
       "    table.parentNode\n",
       "    .querySelector(\".pages-buttons\").innerHTML = buttonsHtml;\n",
       "}\n",
       "\n",
       "function removeSelectionFromAllSortButtons() {\n",
       "    document.querySelectorAll(\".sort-button\")\n",
       "    .forEach(el => el.classList.remove(\"selected\"))\n",
       "}\n",
       "\n",
       "function initTable() {\n",
       "    // template variables we should pass\n",
       "    const initialRows = [\n",
       "    {\n",
       "        \"age\": 30,\n",
       "        \"balance\": 1787,\n",
       "        \"campaign\": 1,\n",
       "        \"contact\": \"cellular\",\n",
       "        \"day\": 19,\n",
       "        \"default\": \"no\",\n",
       "        \"duration\": 79,\n",
       "        \"education\": \"primary\",\n",
       "        \"housing\": \"no\",\n",
       "        \"job\": \"unemployed\",\n",
       "        \"loan\": \"no\",\n",
       "        \"marital\": \"married\",\n",
       "        \"month\": \"oct\",\n",
       "        \"pdays\": -1,\n",
       "        \"poutcome\": \"unknown\",\n",
       "        \"previous\": 0,\n",
       "        \"y\": \"no\"\n",
       "    },\n",
       "    {\n",
       "        \"age\": 33,\n",
       "        \"balance\": 4789,\n",
       "        \"campaign\": 1,\n",
       "        \"contact\": \"cellular\",\n",
       "        \"day\": 11,\n",
       "        \"default\": \"no\",\n",
       "        \"duration\": 220,\n",
       "        \"education\": \"secondary\",\n",
       "        \"housing\": \"yes\",\n",
       "        \"job\": \"services\",\n",
       "        \"loan\": \"yes\",\n",
       "        \"marital\": \"married\",\n",
       "        \"month\": \"may\",\n",
       "        \"pdays\": 339,\n",
       "        \"poutcome\": \"failure\",\n",
       "        \"previous\": 4,\n",
       "        \"y\": \"no\"\n",
       "    },\n",
       "    {\n",
       "        \"age\": 35,\n",
       "        \"balance\": 1350,\n",
       "        \"campaign\": 1,\n",
       "        \"contact\": \"cellular\",\n",
       "        \"day\": 16,\n",
       "        \"default\": \"no\",\n",
       "        \"duration\": 185,\n",
       "        \"education\": \"tertiary\",\n",
       "        \"housing\": \"yes\",\n",
       "        \"job\": \"management\",\n",
       "        \"loan\": \"no\",\n",
       "        \"marital\": \"single\",\n",
       "        \"month\": \"apr\",\n",
       "        \"pdays\": 330,\n",
       "        \"poutcome\": \"failure\",\n",
       "        \"previous\": 1,\n",
       "        \"y\": \"no\"\n",
       "    },\n",
       "    {\n",
       "        \"age\": 30,\n",
       "        \"balance\": 1476,\n",
       "        \"campaign\": 4,\n",
       "        \"contact\": \"unknown\",\n",
       "        \"day\": 3,\n",
       "        \"default\": \"no\",\n",
       "        \"duration\": 199,\n",
       "        \"education\": \"tertiary\",\n",
       "        \"housing\": \"yes\",\n",
       "        \"job\": \"management\",\n",
       "        \"loan\": \"yes\",\n",
       "        \"marital\": \"married\",\n",
       "        \"month\": \"jun\",\n",
       "        \"pdays\": -1,\n",
       "        \"poutcome\": \"unknown\",\n",
       "        \"previous\": 0,\n",
       "        \"y\": \"no\"\n",
       "    },\n",
       "    {\n",
       "        \"age\": 59,\n",
       "        \"balance\": 0,\n",
       "        \"campaign\": 1,\n",
       "        \"contact\": \"unknown\",\n",
       "        \"day\": 5,\n",
       "        \"default\": \"no\",\n",
       "        \"duration\": 226,\n",
       "        \"education\": \"secondary\",\n",
       "        \"housing\": \"yes\",\n",
       "        \"job\": \"blue-collar\",\n",
       "        \"loan\": \"no\",\n",
       "        \"marital\": \"married\",\n",
       "        \"month\": \"may\",\n",
       "        \"pdays\": -1,\n",
       "        \"poutcome\": \"unknown\",\n",
       "        \"previous\": 0,\n",
       "        \"y\": \"no\"\n",
       "    },\n",
       "    {\n",
       "        \"age\": 35,\n",
       "        \"balance\": 747,\n",
       "        \"campaign\": 2,\n",
       "        \"contact\": \"cellular\",\n",
       "        \"day\": 23,\n",
       "        \"default\": \"no\",\n",
       "        \"duration\": 141,\n",
       "        \"education\": \"tertiary\",\n",
       "        \"housing\": \"no\",\n",
       "        \"job\": \"management\",\n",
       "        \"loan\": \"no\",\n",
       "        \"marital\": \"single\",\n",
       "        \"month\": \"feb\",\n",
       "        \"pdays\": 176,\n",
       "        \"poutcome\": \"failure\",\n",
       "        \"previous\": 3,\n",
       "        \"y\": \"no\"\n",
       "    },\n",
       "    {\n",
       "        \"age\": 36,\n",
       "        \"balance\": 307,\n",
       "        \"campaign\": 1,\n",
       "        \"contact\": \"cellular\",\n",
       "        \"day\": 14,\n",
       "        \"default\": \"no\",\n",
       "        \"duration\": 341,\n",
       "        \"education\": \"tertiary\",\n",
       "        \"housing\": \"yes\",\n",
       "        \"job\": \"self-employed\",\n",
       "        \"loan\": \"no\",\n",
       "        \"marital\": \"married\",\n",
       "        \"month\": \"may\",\n",
       "        \"pdays\": 330,\n",
       "        \"poutcome\": \"other\",\n",
       "        \"previous\": 2,\n",
       "        \"y\": \"no\"\n",
       "    },\n",
       "    {\n",
       "        \"age\": 39,\n",
       "        \"balance\": 147,\n",
       "        \"campaign\": 2,\n",
       "        \"contact\": \"cellular\",\n",
       "        \"day\": 6,\n",
       "        \"default\": \"no\",\n",
       "        \"duration\": 151,\n",
       "        \"education\": \"secondary\",\n",
       "        \"housing\": \"yes\",\n",
       "        \"job\": \"technician\",\n",
       "        \"loan\": \"no\",\n",
       "        \"marital\": \"married\",\n",
       "        \"month\": \"may\",\n",
       "        \"pdays\": -1,\n",
       "        \"poutcome\": \"unknown\",\n",
       "        \"previous\": 0,\n",
       "        \"y\": \"no\"\n",
       "    },\n",
       "    {\n",
       "        \"age\": 41,\n",
       "        \"balance\": 221,\n",
       "        \"campaign\": 2,\n",
       "        \"contact\": \"unknown\",\n",
       "        \"day\": 14,\n",
       "        \"default\": \"no\",\n",
       "        \"duration\": 57,\n",
       "        \"education\": \"tertiary\",\n",
       "        \"housing\": \"yes\",\n",
       "        \"job\": \"entrepreneur\",\n",
       "        \"loan\": \"no\",\n",
       "        \"marital\": \"married\",\n",
       "        \"month\": \"may\",\n",
       "        \"pdays\": -1,\n",
       "        \"poutcome\": \"unknown\",\n",
       "        \"previous\": 0,\n",
       "        \"y\": \"no\"\n",
       "    },\n",
       "    {\n",
       "        \"age\": 43,\n",
       "        \"balance\": -88,\n",
       "        \"campaign\": 1,\n",
       "        \"contact\": \"cellular\",\n",
       "        \"day\": 17,\n",
       "        \"default\": \"no\",\n",
       "        \"duration\": 313,\n",
       "        \"education\": \"primary\",\n",
       "        \"housing\": \"yes\",\n",
       "        \"job\": \"services\",\n",
       "        \"loan\": \"yes\",\n",
       "        \"marital\": \"married\",\n",
       "        \"month\": \"apr\",\n",
       "        \"pdays\": 147,\n",
       "        \"poutcome\": \"failure\",\n",
       "        \"previous\": 2,\n",
       "        \"y\": \"no\"\n",
       "    }\n",
       "];\n",
       "    const columns = ['age', 'job', 'marital', 'education', 'default', 'balance', 'housing', 'loan', 'contact', 'day', 'month', 'duration', 'campaign', 'pdays', 'previous', 'poutcome', 'y'];\n",
       "    const rowsPerPage=10;\n",
       "    const nPages=453;\n",
       "    const nTotal=4521;\n",
       "    const tableName=\"bank\";\n",
       "    const tableContainerId = \"tableContainer_1689131854\";\n",
       "    const options = [10, 25, 50, 100];\n",
       "    options_html =\n",
       "    options.map(option => `<option value=${option}>${option}</option>`);\n",
       "\n",
       "\n",
       "    let ths_ = columns.map(col => `<th>${col}</th>`).join(\"\");\n",
       "\n",
       "    let table = `\n",
       "    <div>\n",
       "        <span style=\"margin-right: 5px\">Show</span>\n",
       "        <select\n",
       "        onchange=\"handleRowsNumberOfRowsChange(this)\">\n",
       "            ${options_html}\n",
       "        </select>\n",
       "        <span style=\"margin-left: 5px\">entries</span>\n",
       "    </div>\n",
       "\n",
       "    <table\n",
       "        class=\"jupysql-table-widget\"\n",
       "        style='width:100%'\n",
       "        curr-page-idx=0\n",
       "        rows-per-page=${rowsPerPage}\n",
       "        max-pages = ${nPages}\n",
       "        n-total=${nTotal}\n",
       "        table-name=${tableName}\n",
       "    >\n",
       "        <thead>\n",
       "            <tr>\n",
       "                ${ths_}\n",
       "            </tr>\n",
       "        </thead>\n",
       "\n",
       "        <tbody>\n",
       "        </tbody>\n",
       "    </table>\n",
       "\n",
       "\n",
       "    <div style=\"padding-bottom: 20px;\">\n",
       "        <button onclick=\"prevPageClick(this)\">Previous</button>\n",
       "        <div\n",
       "            id = \"pagesButtons\"\n",
       "            class = \"pages-buttons\"\n",
       "            style = \"display: inline-flex\">\n",
       "        </div>\n",
       "        <button onclick=\"nextPageClick(this)\">Next</button>\n",
       "    </div>\n",
       "    `\n",
       "\n",
       "    let tableContainer = document.querySelector(`#${tableContainerId}`);\n",
       "\n",
       "    tableContainer.innerHTML = table\n",
       "\n",
       "    if (initialRows) {\n",
       "        initializeTableRows(tableContainer, rowsPerPage, initialRows)\n",
       "\n",
       "    } else {\n",
       "        setTimeout(() => {\n",
       "            const fetchParameters = {\n",
       "                rowsPerPage : rowsPerPage,\n",
       "                page : 0,\n",
       "                sort : getSortDetails(),\n",
       "                table : tableName\n",
       "            }\n",
       "\n",
       "            fetchTableData(fetchParameters, (rows) => {\n",
       "                initializeTableRows(tableContainer, rowsPerPage, rows)\n",
       "            })\n",
       "        }, 100);\n",
       "    }\n",
       "    \n",
       "}\n",
       "\n",
       "function initializeTableRows(tableContainer, rowsPerPage, rows) {\n",
       "    updateTable(rows, 0,\n",
       "        tableContainer.querySelector(\"table\"));\n",
       "    // update ths_ to make sure order columns\n",
       "    // are matching the data\n",
       "    if (rows.length > 0) {\n",
       "        let row = rows[0];\n",
       "        let ths_ =\n",
       "        Object.keys(row).map(col =>\n",
       "        `<th>\n",
       "            <div style=\"display: inline-flex; height: 40px\">\n",
       "                <span style=\"line-height: 40px\">${col}</span>\n",
       "                <span style=\"width: 40px;\">\n",
       "                    <button\n",
       "                        class = \"sort-button\"\n",
       "                        onclick='sortColumnClick(this,\n",
       "                        \"${col}\", \"ASC\",\n",
       "                        (rows) => {\n",
       "                            const table = getTable(this);\n",
       "                            const currPage =\n",
       "                            parseInt(table.getAttribute(\"curr-page-idx\"));\n",
       "                            updateTable(rows, currPage);\n",
       "                            removeSelectionFromAllSortButtons()\n",
       "                            this.className += \" selected\"\n",
       "                            }\n",
       "                        )'\n",
       "                        title=\"Sort\"\n",
       "                        >▴\n",
       "                    </button>\n",
       "                    <button\n",
       "                        class = \"sort-button\"\n",
       "                        onclick='sortColumnClick(this,\n",
       "                        \"${col}\", \"DESC\",\n",
       "                        (rows) => {\n",
       "                            const table = getTable(this);\n",
       "                            const currPage = parseInt(\n",
       "                                table.getAttribute(\"curr-page-idx\"));\n",
       "                            updateTable(rows, currPage);\n",
       "                            removeSelectionFromAllSortButtons()\n",
       "                            this.className += \" selected\"\n",
       "                            }\n",
       "                        )'\n",
       "                        title=\"Sort\"\n",
       "                        >▾\n",
       "                    </button>\n",
       "                </span>\n",
       "            </div>\n",
       "\n",
       "            </th>`).join(\"\");\n",
       "        let thead = tableContainer.querySelector(\"thead\")\n",
       "        thead.innerHTML = ths_\n",
       "    }\n",
       "}\n",
       "\n",
       "initTable()</script>\n",
       "    "
      ],
      "text/plain": [
       "<sql.widgets.table_widget.table_widget.TableWidget at 0x7f85387e1b40>"
      ]
     },
     "metadata": {},
     "output_type": "display_data"
    }
   ],
   "source": [
    "%sqlcmd explore --table bank"
   ]
  },
  {
   "cell_type": "code",
   "execution_count": 8,
   "id": "f4118c5c",
   "metadata": {
    "slideshow": {
     "slide_type": "skip"
    }
   },
   "outputs": [
    {
     "name": "stderr",
     "output_type": "stream",
     "text": [
      "Found cached dataset csv (/Users/macpro/.cache/huggingface/datasets/knkarthick___csv/knkarthick--dialogsum-c8fac5d84cd35861/0.0.0/6954658bab30a358235fa864b05cf819af0e179325c740e4bc853bcc7ec513e1)\n"
     ]
    },
    {
     "data": {
      "application/vnd.jupyter.widget-view+json": {
       "model_id": "e2a555732db54a898a1227b8a8e77ebe",
       "version_major": 2,
       "version_minor": 0
      },
      "text/plain": [
       "  0%|          | 0/3 [00:00<?, ?it/s]"
      ]
     },
     "metadata": {},
     "output_type": "display_data"
    }
   ],
   "source": [
    "huggingface_dataset_name = \"knkarthick/dialogsum\"\n",
    "\n",
    "dataset = load_dataset(huggingface_dataset_name)"
   ]
  },
  {
   "cell_type": "code",
   "execution_count": 67,
   "id": "d395fc6c",
   "metadata": {},
   "outputs": [],
   "source": [
    "model_name='google/flan-t5-base'\n",
    "\n",
    "model = AutoModelForSeq2SeqLM.from_pretrained(model_name)"
   ]
  },
  {
   "cell_type": "code",
   "execution_count": 11,
   "id": "9f03e312",
   "metadata": {},
   "outputs": [],
   "source": [
    "from haystack.nodes import PromptNode\n",
    "\n",
    "# Initalize the node passing the model:\n",
    "prompt_node = PromptNode(model_name_or_path=\"google/flan-t5-base\")\n"
   ]
  },
  {
   "cell_type": "code",
   "execution_count": 12,
   "id": "dc6b7b6b",
   "metadata": {},
   "outputs": [
    {
     "data": {
      "text/plain": [
       "['san marino']"
      ]
     },
     "execution_count": 12,
     "metadata": {},
     "output_type": "execute_result"
    }
   ],
   "source": [
    "# Go ahead and ask a question:\n",
    "prompt_node(\"What is the best city in Europe to live in?\")\n"
   ]
  },
  {
   "cell_type": "code",
   "execution_count": null,
   "id": "3082358c",
   "metadata": {},
   "outputs": [],
   "source": [
    "{\"system\"}"
   ]
  },
  {
   "cell_type": "code",
   "execution_count": 17,
   "id": "863b49a6",
   "metadata": {},
   "outputs": [],
   "source": [
    "pn = PromptNode(\"gpt-4\", api_key=open_ai_key)\n"
   ]
  },
  {
   "cell_type": "code",
   "execution_count": 20,
   "id": "ad40fb5a",
   "metadata": {},
   "outputs": [
    {
     "data": {
      "text/plain": [
       "['Determining the \"best\" city in Europe to live in is subjective as it highly depends on personal preferences such as lifestyle, language, cost of living, safety, climate, job opportunities, etc. However, according to various surveys and rankings, cities like Copenhagen, Denmark; Vienna, Austria; Zurich, Switzerland; Munich, Germany; and Amsterdam, Netherlands consistently rank high in terms of quality of life.']"
      ]
     },
     "execution_count": 20,
     "metadata": {},
     "output_type": "execute_result"
    }
   ],
   "source": [
    "prompt = \"What is the best city in Europe to live in?\"\n",
    "pn(prompt, max_tokens=100)"
   ]
  },
  {
   "cell_type": "code",
   "execution_count": null,
   "id": "86b5ce81",
   "metadata": {},
   "outputs": [],
   "source": []
  }
 ],
 "metadata": {
  "celltoolbar": "Slideshow",
  "kernelspec": {
   "display_name": "Python-LLM",
   "language": "python",
   "name": "llm-env"
  },
  "language_info": {
   "codemirror_mode": {
    "name": "ipython",
    "version": 3
   },
   "file_extension": ".py",
   "mimetype": "text/x-python",
   "name": "python",
   "nbconvert_exporter": "python",
   "pygments_lexer": "ipython3",
   "version": "3.10.0"
  }
 },
 "nbformat": 4,
 "nbformat_minor": 5
}
