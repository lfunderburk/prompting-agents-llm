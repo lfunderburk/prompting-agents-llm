{
 "cells": [
  {
   "cell_type": "code",
   "execution_count": 1,
   "id": "94275820",
   "metadata": {
    "slideshow": {
     "slide_type": "skip"
    }
   },
   "outputs": [],
   "source": [
    "from datasets import load_dataset\n",
    "from transformers import AutoModelForSeq2SeqLM\n",
    "from transformers import AutoTokenizer\n",
    "from transformers import GenerationConfig\n",
    "import transformers\n",
    "import torch\n",
    "from dotenv import load_dotenv\n",
    "import os\n",
    "import openai\n",
    "import banking  # noqa: E402\n",
    "from private_prompting import Prompter\n",
    "load_dotenv(\".env\")\n",
    "\n",
    "open_ai_key = os.environ.get(\"openai-key\")\n"
   ]
  },
  {
   "cell_type": "markdown",
   "id": "35b54edc",
   "metadata": {
    "slideshow": {
     "slide_type": "skip"
    }
   },
   "source": [
    "Download data and initialize a DuckDB instance. "
   ]
  },
  {
   "cell_type": "code",
   "execution_count": 2,
   "id": "b9a3cb54",
   "metadata": {
    "slideshow": {
     "slide_type": "skip"
    }
   },
   "outputs": [],
   "source": [
    "_ = banking.BankingData(\"https://tinyurl.com/jb-bank\", \"bank\")\n",
    "_.extract_to_csv()\n",
    "\n",
    "# Loading in SQL extension\n",
    "%reload_ext sql\n",
    "# Initiating a DuckDB database named 'bank.duck.db' to run our SQL queries on\n",
    "%sql duckdb:///bank.duck.db"
   ]
  },
  {
   "cell_type": "markdown",
   "id": "69b58650",
   "metadata": {
    "slideshow": {
     "slide_type": "skip"
    }
   },
   "source": [
    "Create table."
   ]
  },
  {
   "cell_type": "code",
   "execution_count": 3,
   "id": "6cec2da1",
   "metadata": {
    "slideshow": {
     "slide_type": "skip"
    }
   },
   "outputs": [
    {
     "data": {
      "text/html": [
       "<span style=\"None\">Running query in &#x27;duckdb:///bank.duck.db&#x27;</span>"
      ],
      "text/plain": [
       "Running query in 'duckdb:///bank.duck.db'"
      ]
     },
     "metadata": {},
     "output_type": "display_data"
    },
    {
     "data": {
      "text/html": [
       "<span style=\"None\">Running query in &#x27;duckdb:///bank.duck.db&#x27;</span>"
      ],
      "text/plain": [
       "Running query in 'duckdb:///bank.duck.db'"
      ]
     },
     "metadata": {},
     "output_type": "display_data"
    }
   ],
   "source": [
    "%sql CREATE OR REPLACE TABLE bank AS FROM read_csv_auto('bank_cleaned.csv', header=True, sep=',')\n",
    "# Extract column names\n",
    "columns = %sql PRAGMA table_info('bank');\n",
    "column_names = [row[1] for row in columns]"
   ]
  },
  {
   "cell_type": "markdown",
   "id": "7c18c8a3",
   "metadata": {
    "slideshow": {
     "slide_type": "slide"
    }
   },
   "source": [
    "<h1 align='center'>Prompts & Agents</h1>\n",
    "\n",
    "<h2 align='center'>How to incorporate prompting into your Python scripts <br>and expand their functionality through agents</h2>\n",
    "\n",
    "<h2 align='center'>Laura Funderburk</h2>\n",
    "\n",
    "<h2 align='center'>PyData Vancouver</h2>"
   ]
  },
  {
   "cell_type": "markdown",
   "id": "1b666908",
   "metadata": {
    "slideshow": {
     "slide_type": "slide"
    }
   },
   "source": [
    "<h1 align='center'>About me</h1>\n",
    "\n",
    "* Developer Advocate @ Ploomber (talking and sharing knowledge about tools to improve the data science workflow)\n",
    "\n",
    "* Previously a data scientist (for-profit, not-for-profit sector)\n",
    "\n",
    "* Deeply curious about generative AI, Large Language Models, with a focus on engineering and automation\n",
    "\n",
    "* I use LLMs, prompting and agents to automate work tasks.\n",
    "\n",
    "* BJJ enthusiast. Working towards a blue belt end of the year. Competing at CBJJF Internationals September"
   ]
  },
  {
   "cell_type": "markdown",
   "id": "be80b748",
   "metadata": {
    "slideshow": {
     "slide_type": "slide"
    }
   },
   "source": [
    "<h1 align='center'>Talk at a glance</h1>\n",
    "\n",
    "<h2 align='center'>Part I: Prompting (40 minutes)</h2>\n",
    "\n",
    "\n",
    "1. LLMs use cases and tasks\n",
    "2. The Generative AI project lifecycle \n",
    "3. Choosing the right LLM for the desired task\n",
    "4. Key elements of prompting & prompting techniques\n",
    "5. Prompting private LLMs (OpenAI API): `ChatCompletion`\n",
    "6. Prompting open source LLMs through HuggingFace"
   ]
  },
  {
   "cell_type": "markdown",
   "id": "7d6bc99d",
   "metadata": {
    "slideshow": {
     "slide_type": "subslide"
    }
   },
   "source": [
    "<h1 align='center'>Talk at a glance</h1>\n",
    "\n",
    "<h2 align='center'>Part II: Agents and open source frameworks (20 minutes)</h2>\n",
    "\n",
    "1. NLP pipelines and chaining\n",
    "2. Introduction to Haystack\n",
    "3. Introduction to LangChain\n",
    "4. Techniques to combine prompting and agents for deployment of applications\n",
    "5. Pros and cons of each"
   ]
  },
  {
   "cell_type": "markdown",
   "id": "fdb9f5f0",
   "metadata": {
    "slideshow": {
     "slide_type": "slide"
    }
   },
   "source": [
    "<h1 align='center'>Part I: Prompting</h1>\n"
   ]
  },
  {
   "cell_type": "markdown",
   "id": "7af1efe1",
   "metadata": {
    "slideshow": {
     "slide_type": "slide"
    }
   },
   "source": [
    "<h1 align='center'>LLMs use cases and tasks</h1>\n"
   ]
  },
  {
   "cell_type": "markdown",
   "id": "fbb1f923",
   "metadata": {
    "slideshow": {
     "slide_type": "subslide"
    }
   },
   "source": [
    "<h1 align='center'>LLMs use cases and tasks</h1>\n",
    "\n",
    "\n",
    "* Text summarization\n",
    "\n",
    "* Conversation \n",
    "\n",
    "* Translation\n",
    "\n",
    "* Text generation\n",
    "\n",
    "* Text, token and sentiment classification\n",
    "\n",
    "* Table Q&A and Q&A from unstructured data\n",
    "\n",
    "* Sentence similarity\n",
    "\n",
    "* Masking"
   ]
  },
  {
   "cell_type": "markdown",
   "id": "5d4370d0",
   "metadata": {
    "slideshow": {
     "slide_type": "subslide"
    }
   },
   "source": [
    "<h1 align='center'>LLMs use cases and tasks</h1>\n",
    "\n",
    "<h3 align='center'>Your goal is to understand the business case you are solving -<br> then select the appropriate methods to solve it</h3>\n",
    "\n",
    "<h4 align='center'>Who will benefit from your product?</h4>\n",
    "\n",
    "<h4 align='center'>What are business constraints (time, data, resources)?</h4>\n",
    "\n",
    "<h4 align='center'>What is the end result?</h4>\n",
    "\n",
    "<h4 align='center'>How will it be served?</h4>\n",
    "\n"
   ]
  },
  {
   "cell_type": "markdown",
   "id": "ed8f6595",
   "metadata": {
    "slideshow": {
     "slide_type": "slide"
    }
   },
   "source": [
    "<h1 align='center'>The generative AI project lifecycle</h1>\n"
   ]
  },
  {
   "cell_type": "markdown",
   "id": "6b3f2a51",
   "metadata": {
    "slideshow": {
     "slide_type": "subslide"
    }
   },
   "source": [
    "<h1 align='center'>The generative AI project lifecycle</h1>\n",
    "\n",
    "<p></p>\n",
    "\n",
    "<center>\n",
    "  <img src=\"diagrams/genai_project_lifecycle.jpg\" width=\"1400px\"/>\n",
    "\n",
    "</center>\n",
    "\n",
    "Source: Coursera, Generative AI with LLMs"
   ]
  },
  {
   "cell_type": "markdown",
   "id": "a0ecc728",
   "metadata": {
    "slideshow": {
     "slide_type": "subslide"
    }
   },
   "source": [
    "<h1 align='center'>Focus of this talk</h1>\n",
    "\n",
    "<p></p>\n",
    "<center>\n",
    "  <img src=\"diagrams/genai_project_lifecycle_focus.jpg\" width=\"1400px\"/>\n",
    "\n",
    "</center>"
   ]
  },
  {
   "cell_type": "markdown",
   "id": "1e68a8bd",
   "metadata": {
    "slideshow": {
     "slide_type": "slide"
    }
   },
   "source": [
    "<h1 align='center'>Choosing the right LLM (architecture) for the desired task</h1>\n",
    "\n",
    "<p></p>\n",
    "<center>\n",
    "  <img src=\"diagrams/opt.jpeg\" width=\"200px\"/>\n",
    "\n",
    "</center>\n",
    "\n",
    "\n",
    "* Decoder-only transformers: Good for **generative tasks** (auto-regressive)\n",
    "* Encoder-only transformers: Good for tasks that require **understanding of the input** (auto-encoding)\n",
    "* Encoder-decoder transformers or sequence-to-sequence models: Good for **generative tasks that require input** \n",
    "\n"
   ]
  },
  {
   "cell_type": "markdown",
   "id": "6f0dfd13",
   "metadata": {
    "slideshow": {
     "slide_type": "subslide"
    }
   },
   "source": [
    "<h1 align='center'>Choosing the right LLM (architecture) for the desired task</h1>\n",
    "\n",
    "| Tranformer type | Architecture|Model-like | Focus | Example| \n",
    "|-|-|-|-|-|\n",
    "| Auto-regressive | Decoder-only |GPT-like | Generative tasks | Chat bot | \n",
    "| Auto-encoding | Encoder-only |BERT-like | Understanding of the input | Question-answering|\n",
    "| Sequence-to-Sequence |Encoder-decoder |BART/T5-like | Generative tasks that require an input | Language translation|\n",
    "\n",
    "Read more\n",
    "\n",
    "https://github.com/christianversloot/machine-learning-articles/blob/main/differences-between-autoregressive-autoencoding-and-sequence-to-sequence-models-in-machine-learning.md"
   ]
  },
  {
   "cell_type": "markdown",
   "id": "1939aeee",
   "metadata": {
    "slideshow": {
     "slide_type": "subslide"
    }
   },
   "source": [
    "<h1 align='center'>Do I need to train a new model to solve my problem?</h1>\n",
    "\n",
    "<h3 align='center'>No. Training an LLM is costly (GPU usage, time, compute, data). This is why sharing LLMs and their fine-tuned components has become highly popular.</h3>\n",
    "\n",
    "\n",
    "<p></p>\n",
    "<center>\n",
    "  <img src=\"diagrams/hftasks.png\" width=\"1300px\"/>\n",
    "\n",
    "</center>\n",
    "\n",
    "<h3 align='center'>You can start with prompting a LLM, then fine-tuning* if you aren't getting the results you want. <br>You'll need to curate a dataset for this. </h3>\n",
    "\n",
    "*(instruction-tuning or, PEFT + LoRA for example)\n",
    "\n",
    "Source: https://huggingface.co/tasks"
   ]
  },
  {
   "cell_type": "markdown",
   "id": "f57ef893",
   "metadata": {
    "slideshow": {
     "slide_type": "slide"
    }
   },
   "source": [
    "<h1 align='center'>Prompting</h1>\n"
   ]
  },
  {
   "cell_type": "markdown",
   "id": "781c31ef",
   "metadata": {
    "slideshow": {
     "slide_type": "subslide"
    }
   },
   "source": [
    "<h1 align='center'>Key elements of prompting</h1>\n",
    "\n",
    "<h3 align='center'>Basic</h3>\n",
    "\n",
    "* A LLM to interact with\n",
    "* Temperature\n",
    "* Max tokens\n",
    "* A natural language request\n",
    "\n",
    "<h3 align='center'>Advanced</h3>\n",
    "\n",
    "* Data (text files, web files)\n",
    "* A database storage system (vector DB, SQL, PostgreSQL, etc)\n",
    "* User interfaces\n"
   ]
  },
  {
   "cell_type": "markdown",
   "id": "00c2b5e7",
   "metadata": {
    "slideshow": {
     "slide_type": "subslide"
    }
   },
   "source": [
    "<h1 align='center'>Prompting techniques</h1>\n",
    "\n",
    "* Zero-shot inference\n",
    "\n",
    "* One-shot inference\n",
    "\n",
    "* Few-shot inference\n"
   ]
  },
  {
   "cell_type": "markdown",
   "id": "175457fa",
   "metadata": {
    "slideshow": {
     "slide_type": "subslide"
    }
   },
   "source": [
    "<h1 align='center'>Prompting techniques: Zero-shot inference</h1>\n",
    "\n",
    "**Formula: instruction, no examples.**\n",
    "\n",
    "Suppose we want to translate natural language queries into SQL. \n",
    "\n",
    "We have a `natural_question`, a database table name `db_name` and a `schema`\n",
    "\n",
    "```python\n",
    "prompt= f\"Answer the question {natural_question} for table {db_name} with schema {schema}\"        \n",
    "```\n",
    "\n",
    "Suppose we want to classify the sentiment in a sentence `sentence`\n",
    "\n",
    "```python\n",
    "prompt = f\"How does the author feel about this based on the statement {sentence}\"\n",
    "\n",
    "```"
   ]
  },
  {
   "cell_type": "markdown",
   "id": "6ae5554f",
   "metadata": {
    "slideshow": {
     "slide_type": "subslide"
    }
   },
   "source": [
    "<h1 align='center'>Prompting techniques: One-shot inference</h1>\n",
    "\n",
    "**Formula: instruction, one example.**\n",
    "\n",
    "```python\n",
    "prompt= f\"Answer the question {natural_question} for table {db_name} with schema {schema}\\\n",
    "                        For example, if you receive the question: 'How many records are there?'\\\n",
    "                        An appropriate answer is\\\n",
    "                        'SELECT COUNT(*) FROM bank'\"\n",
    "```\n",
    "\n",
    "```python\n",
    "prompt = f\"How does the author feel about this based on the statement {sentence}\\\n",
    "            'I find the user experience is confusing and convoluted'\\\n",
    "            Answer: Negative\"\n",
    "\n",
    "```"
   ]
  },
  {
   "cell_type": "markdown",
   "id": "db916187",
   "metadata": {
    "slideshow": {
     "slide_type": "subslide"
    }
   },
   "source": [
    "<h1 align='center'>Prompting techniques: Few-shot inference</h1>\n",
    "\n",
    "**Formula: instruction, more than one example.**\n",
    "\n",
    "```python\n",
    "prompt= f\"Answer the question {natural_question} for table {db_name} with schema {schema}\\\n",
    "                        Example:\\\n",
    "                        'How many records are there?'\\\n",
    "                        'SELECT COUNT(*) FROM bank'\\\n",
    "                        Example:\\\n",
    "                        Find all employees that are unemployed\\\n",
    "                        SELECT * FROM bank WHERE job = 'unemployed'\"\n",
    "```\n",
    "\n",
    "```python\n",
    "prompt = f\"How does the author feel about this based on the statement {sentence}\\\n",
    "            'I find the user experience is confusing and convoluted'\\\n",
    "            Answer: Negative\\\n",
    "            'The decoration of the room made me feel welcome!'\\\n",
    "            Answer: Positive\"\n",
    "\n",
    "```"
   ]
  },
  {
   "cell_type": "markdown",
   "id": "66c64015",
   "metadata": {
    "slideshow": {
     "slide_type": "slide"
    }
   },
   "source": [
    "<h1 align='center'>Prompting private LLMs (OpenAI API)</h1>\n",
    "\n",
    "\n",
    "We're going to focus on the `ChatCompletion` end point. \n",
    "\n",
    "Key elements:\n",
    "\n",
    "* OpenAI API Key\n",
    "* Model chosen (GPT4, GPT 3.5 Turbo, Text-Davinci)\n",
    "* Temperature\n",
    "* Your prompt\n"
   ]
  },
  {
   "cell_type": "markdown",
   "id": "b1b78bf3",
   "metadata": {
    "slideshow": {
     "slide_type": "subslide"
    }
   },
   "source": [
    "<h1 align='center'>Prompting private LLMs (OpenAI API)</h1>\n",
    "\n",
    "```python\n",
    "import openai\n",
    "\n",
    "class Prompter:\n",
    "    def __init__(self, api_key, gpt_model, temperature=0.2):\n",
    "        if not api_key:\n",
    "            raise Exception(\"Please provide the OpenAI API key\")\n",
    "\n",
    "        self.api_key  = api_key\n",
    "        self.gpt_model = gpt_model\n",
    "        self.temperature = temperature\n",
    "    \n",
    "    \n",
    "```"
   ]
  },
  {
   "cell_type": "markdown",
   "id": "cdda4f5d",
   "metadata": {
    "slideshow": {
     "slide_type": "subslide"
    }
   },
   "source": [
    "<h1 align='center'>Prompting private LLMs (OpenAI API)</h1>\n",
    "\n",
    "```python\n",
    "import openai\n",
    "\n",
    "class Prompter:\n",
    "    ...\n",
    "    def prompt_model_return(self, messages: list):\n",
    "        openai.api_key = self.api_key\n",
    "        response = openai.ChatCompletion.create(model=self.gpt_model, \n",
    "                                                messages=messages,\n",
    "                                                temperature=self.temperature)\n",
    "        return response[\"choices\"][0][\"message\"][\"content\"]\n",
    "    \n",
    "\n",
    "```"
   ]
  },
  {
   "cell_type": "markdown",
   "id": "6950ed4b",
   "metadata": {
    "slideshow": {
     "slide_type": "slide"
    }
   },
   "source": [
    "<h1 align='center'>Roles in prompting the ChatCompletion endpoint</h1>\n",
    "\n",
    "`system content`: What context should the LLM have in mind? Expert in marketing, helpful assistant, enthusiastic marketing generator.\n",
    "\n",
    "`user content`: What are typical requests that someone in that role would receive?\n"
   ]
  },
  {
   "cell_type": "markdown",
   "id": "a40f916e",
   "metadata": {
    "slideshow": {
     "slide_type": "subslide"
    }
   },
   "source": [
    "```python\n",
    "import openai\n",
    "\n",
    "class Prompter:\n",
    "    ...\n",
    "    def natural_language_to_sql(self, db_name:str, schema:str, natural_question:str):\n",
    "\n",
    "            system_content = f\"You are a data analyst, \\\n",
    "                               and you specialize in solving business questions with SQL.\\\n",
    "                               You are given a natural language question, \\\n",
    "                               and your role is to translate the question\\\n",
    "                               into a query that can be executed against a database. \\\n",
    "                               Ensure your queries are written in a single line, with no special characters\"\n",
    "            \n",
    "            user_content = f\"Please generate a SQL query for data with in a database named {db_name}\\\n",
    "                            along with a schema {schema} for the question {natural_question}\"\n",
    "\n",
    "            full_prompts = [\n",
    "                                    {\"role\" : \"system\", \"content\" : system_content},\n",
    "                                    {\"role\" : \"user\", \"content\" : user_content},\n",
    "                                    ]\n",
    "\n",
    "            result = self.prompt_model_return(full_prompts)\n",
    "\n",
    "            return result\n",
    "    \n",
    "```"
   ]
  },
  {
   "cell_type": "markdown",
   "id": "fde69af5",
   "metadata": {
    "slideshow": {
     "slide_type": "subslide"
    }
   },
   "source": [
    "Let's suppose I have a database called `bank` that looks as follows."
   ]
  },
  {
   "cell_type": "code",
   "execution_count": 42,
   "id": "efa3d5a3",
   "metadata": {
    "slideshow": {
     "slide_type": "fragment"
    }
   },
   "outputs": [
    {
     "data": {
      "text/html": [
       "\n",
       "    <style>.sort-button {\n",
       "    background: none;\n",
       "    border: none;\n",
       "}\n",
       "\n",
       ".sort-button.selected {\n",
       "    background: #efefef;\n",
       "    border: 1px solid #767676;\n",
       "}\n",
       "\n",
       ".pages-buttons button.selected {\n",
       "    background: #efefef;\n",
       "    border: 1px solid #767676;\n",
       "    border-radius: 2px;\n",
       "}\n",
       ".pages-buttons button {\n",
       "    background: none;\n",
       "    border: none;\n",
       "    padding: 0 10px;\n",
       "}\n",
       ".jupysql-table-widget {\n",
       "    display: inline;\n",
       "}</style>\n",
       "    \n",
       "            <div id=\"tableContainer_1689322150\" class=\"table-container\"></div>\n",
       "            \n",
       "    <script>function isJupyterNotebook() {\n",
       "    return window[\"Jupyter\"];\n",
       "}\n",
       "\n",
       "function getTable(element) {\n",
       "    let table;\n",
       "    if (element) {\n",
       "        const tableContainer = element.closest(\".table-container\");\n",
       "        table = tableContainer.querySelector(\"table\");\n",
       "    } else {\n",
       "        const _isJupyterNotebook = isJupyterNotebook();\n",
       "        if (_isJupyterNotebook) {\n",
       "            table = document.querySelector(\".selected .table-container table\");\n",
       "        } else {\n",
       "            table = document.querySelector(\".jp-Cell.jp-mod-active .table-container table\");\n",
       "        }\n",
       "    }\n",
       "\n",
       "    return table;\n",
       "}\n",
       "\n",
       "function getSortDetails() {\n",
       "    let sort = undefined;\n",
       "\n",
       "    const table = getTable();\n",
       "    if (table) {\n",
       "        const column = table.getAttribute(\"sort-by-column\");\n",
       "        const order = table.getAttribute(\"sort-by-order\");\n",
       "\n",
       "        if (column && order) {\n",
       "            sort = {\n",
       "                \"column\" : column,\n",
       "                \"order\" : order\n",
       "            }\n",
       "        }\n",
       "    }\n",
       "\n",
       "    return sort;\n",
       "}\n",
       "\n",
       "function sortColumnClick(element, column, order, callback) {\n",
       "    // fetch data with sort logic\n",
       "    const table = getTable(element);\n",
       "    table.setAttribute(\"sort-by-column\", column);\n",
       "    table.setAttribute(\"sort-by-order\", order);\n",
       "    const rowsPerPage = table.getAttribute(\"rows-per-page\");\n",
       "    const currrPage = table.getAttribute(\"curr-page-idx\");\n",
       "\n",
       "    const sort = {\n",
       "        'column' : column,\n",
       "        'order' : order\n",
       "    }\n",
       "\n",
       "    const fetchParameters = {\n",
       "        rowsPerPage : parseInt(rowsPerPage),\n",
       "        page : parseInt(currrPage),\n",
       "        sort : sort,\n",
       "        table : table.getAttribute(\"table-name\")\n",
       "    }\n",
       "\n",
       "    fetchTableData(fetchParameters, callback)\n",
       "}\n",
       "\n",
       "function fetchTableData(fetchParameters, callback) {\n",
       "    \n",
       "    sendObject = {\n",
       "        'nRows' : fetchParameters.rowsPerPage,\n",
       "        'page': fetchParameters.page,\n",
       "        'table' : fetchParameters.table\n",
       "    }\n",
       "\n",
       "    if (fetchParameters.sort) {\n",
       "        sendObject.sort = fetchParameters.sort\n",
       "    }\n",
       "\n",
       "    const _isJupyterNotebook = isJupyterNotebook();\n",
       "\n",
       "\n",
       "    if (_isJupyterNotebook) {\n",
       "        // for Jupyter Notebook\n",
       "        const comm =\n",
       "        Jupyter.notebook.kernel.comm_manager.new_comm('comm_target_handle_table_widget', {})\n",
       "        comm.send(sendObject)\n",
       "        comm.on_msg(function(msg) {\n",
       "            const rows = JSON.parse(msg.content.data['rows']);\n",
       "            if (callback) {\n",
       "                callback(rows)\n",
       "            }\n",
       "        });\n",
       "    } else{\n",
       "        // for JupyterLab\n",
       "        dispatchEventToKernel(sendObject)\n",
       "\n",
       "        const controller = new AbortController();\n",
       "    \n",
       "        document.addEventListener('onTableWidgetRowsReady', (customEvent) => {\n",
       "            const rows = JSON.parse(customEvent.detail.data.rows)\n",
       "            controller.abort()\n",
       "            if (callback) {\n",
       "                callback(rows)\n",
       "            }\n",
       "        }, {signal: controller.signal})\n",
       "    }\n",
       "\n",
       "\n",
       "}\n",
       "\n",
       "\n",
       "function dispatchEventToKernel(data) {\n",
       "    let customEvent = new CustomEvent('onUpdateTableWidget', {\n",
       "    bubbles: true,\n",
       "    cancelable: true,\n",
       "    composed: false,\n",
       "    detail : {\n",
       "        data : data\n",
       "    }\n",
       "    });\n",
       "    document.body.dispatchEvent(customEvent)\n",
       "}         \n",
       "\n",
       "function handleRowsNumberOfRowsChange(e) {\n",
       "    const rowsPerPage = parseInt(e.value);\n",
       "    let table = getTable();\n",
       "    table.setAttribute('rows-per-page', rowsPerPage);\n",
       "\n",
       "    const nTotal = table.getAttribute('n-total');\n",
       "\n",
       "    const maxPages = Math.ceil(nTotal / rowsPerPage)\n",
       "    table.setAttribute('max-pages', maxPages);\n",
       "\n",
       "    const fetchParameters = {\n",
       "        rowsPerPage : rowsPerPage,\n",
       "        page : 0,\n",
       "        sort : getSortDetails(),\n",
       "        table : table.getAttribute(\"table-name\")\n",
       "    }\n",
       "\n",
       "    setTimeout(() => {\n",
       "        fetchTableData(fetchParameters, (rows) => {\n",
       "            updateTable(rows);\n",
       "        })\n",
       "    }, 100);\n",
       "}\n",
       "\n",
       "function updateTable(rows, currPage, tableToUpdate) {\n",
       "    const table = tableToUpdate || getTable();\n",
       "    const trs = table.querySelectorAll(\"tbody tr\");\n",
       "    const tbody = table.querySelector(\"tbody\");\n",
       "    tbody.innerHTML = \"\";\n",
       "\n",
       "    const _html = createTableRows(rows)\n",
       "\n",
       "    tbody.innerHTML = _html\n",
       "\n",
       "    setTimeout(() => {\n",
       "        updatePaginationBar(table, currPage || 0)\n",
       "    }, 100)\n",
       "}\n",
       "\n",
       "function createTableRows(rows) {\n",
       "    const _html = rows.map(function(row) {\n",
       "        const tds =\n",
       "        Object.keys(row).map(function(key) {\n",
       "\n",
       "            return \"<td>\" + row[key] + \"</td>\"\n",
       "        }).join(\"\") ;\n",
       "        return \"<tr>\" + tds + \"</tr>\";\n",
       "    }).join(\"\");\n",
       "\n",
       "    return _html\n",
       "}\n",
       "\n",
       "function showTablePage(page, rowsPerPage, data) {\n",
       "    const table = getTable();\n",
       "    const trs = table.querySelectorAll(\"tbody tr\");\n",
       "    const tbody = table.querySelector(\"tbody\");\n",
       "    tbody.innerHTML = \"\";\n",
       "\n",
       "    const rows = data;\n",
       "    const startIndex = page * rowsPerPage;\n",
       "    const endIndex = startIndex + rowsPerPage;\n",
       "    const _html = rows.map(row => {\n",
       "        const tds =\n",
       "        Object.keys(row).map(key => `<td>${row[key]}</td>`).join(\"\");\n",
       "        return `<tr>${tds}</tr>`;\n",
       "    }).join(\"\");\n",
       "\n",
       "    tbody.innerHTML = _html;\n",
       "\n",
       "    table.setAttribute(\"curr-page-idx\", page);\n",
       "    updatePaginationBar(table, page);\n",
       "}\n",
       "\n",
       "function nextPageClick(element) {\n",
       "    const table = getTable(element);\n",
       "    const currPageIndex = parseInt(table.getAttribute(\"curr-page-idx\"));\n",
       "    const rowsPerPage = parseInt(table.getAttribute(\"rows-per-page\"));\n",
       "    const maxPages = parseInt(table.getAttribute(\"max-pages\"));\n",
       "\n",
       "    const nextPage = currPageIndex + 1;\n",
       "    if (nextPage < maxPages) {\n",
       "        const fetchParameters = {\n",
       "            rowsPerPage : rowsPerPage,\n",
       "            page : nextPage,\n",
       "            sort : getSortDetails(),\n",
       "            table : table.getAttribute(\"table-name\")\n",
       "        }\n",
       "\n",
       "        fetchTableData(fetchParameters, (rows) => {\n",
       "            showTablePage(nextPage, rowsPerPage, rows)\n",
       "        });\n",
       "    }\n",
       "\n",
       "}\n",
       "\n",
       "function prevPageClick() {\n",
       "    const table = getTable();\n",
       "    const currPageIndex = parseInt(table.getAttribute(\"curr-page-idx\"));\n",
       "    const rowsPerPage = parseInt(table.getAttribute(\"rows-per-page\"));\n",
       "    const prevPage = currPageIndex - 1;\n",
       "    if (prevPage >= 0) {\n",
       "        const fetchParameters = {\n",
       "            rowsPerPage : rowsPerPage,\n",
       "            page : prevPage,\n",
       "            sort : getSortDetails(),\n",
       "            table : table.getAttribute(\"table-name\")\n",
       "        }\n",
       "\n",
       "        fetchTableData(fetchParameters, (rows) => {\n",
       "            showTablePage(prevPage, rowsPerPage, rows)\n",
       "        });\n",
       "    }\n",
       "}\n",
       "\n",
       "function setPageButton(table, label, navigateTo, isSelected) {\n",
       "    const rowsPerPage = parseInt(table.getAttribute(\"rows-per-page\"));\n",
       "    const selected = isSelected ? \"selected\" : \"\";\n",
       "\n",
       "    const button = `\n",
       "    <button class=\"${selected}\"\n",
       "            onclick=\"\n",
       "            fetchTableData({\n",
       "                rowsPerPage : ${rowsPerPage},\n",
       "                page : ${navigateTo},\n",
       "                sort : getSortDetails(),\n",
       "                table : getTable(this).getAttribute('table-name')\n",
       "            },\n",
       "            (rows) => {\n",
       "                showTablePage(${navigateTo}, ${rowsPerPage}, rows);\n",
       "                })\"\n",
       "    >\n",
       "        ${label}\n",
       "    </button>\n",
       "    `\n",
       "    return button;\n",
       "}\n",
       "\n",
       "function updatePaginationBar(table, currPage) {\n",
       "    const maxPages = parseInt(table.getAttribute(\"max-pages\"));\n",
       "    const maxPagesInRow = 6;\n",
       "    const rowsPerPage = parseInt(table.getAttribute(\"rows-per-page\"));\n",
       "    table.setAttribute(\"curr-page-idx\", currPage);\n",
       "\n",
       "    let buttonsArray = []\n",
       "\n",
       "    let startEllipsisAdded = false\n",
       "    let endEllipsisAdded = false\n",
       "\n",
       "    // add first\n",
       "    let selected = currPage === 0;\n",
       "    buttonsArray.push(setPageButton(table, \"1\", 0, selected));\n",
       "\n",
       "    for (i = 1; i < maxPages - 1; i++) {\n",
       "        const navigateTo = i;\n",
       "        const label = i + 1;\n",
       "        selected = currPage === i;\n",
       "        const inStartRange = currPage < maxPagesInRow;\n",
       "        const inEndRange = maxPages - 1 - currPage < maxPagesInRow;\n",
       "\n",
       "        if (inStartRange) {\n",
       "            if (i < maxPagesInRow) {\n",
       "                buttonsArray\n",
       "                .push(setPageButton(table, label, navigateTo, selected));\n",
       "            } else {\n",
       "            if (!startEllipsisAdded) {\n",
       "                buttonsArray.push(\"...\");\n",
       "                startEllipsisAdded = true;\n",
       "            }\n",
       "            }\n",
       "        } else if (inEndRange) {\n",
       "            if (maxPages - 1 - i < maxPagesInRow) {\n",
       "                buttonsArray\n",
       "                .push(setPageButton(table, label, navigateTo, selected));\n",
       "            } else {\n",
       "            if (!endEllipsisAdded) {\n",
       "                buttonsArray.push(\"...\");\n",
       "                endEllipsisAdded = true;\n",
       "            }\n",
       "            }\n",
       "        }\n",
       "\n",
       "        if (!inStartRange && !inEndRange) {\n",
       "            if (currPage === i-2) {\n",
       "                buttonsArray.push(\"...\");\n",
       "            }\n",
       "            if (\n",
       "                currPage === i - 1 ||\n",
       "                currPage === i ||\n",
       "                currPage === i + 1\n",
       "            ) {\n",
       "                buttonsArray\n",
       "                .push(setPageButton(table, label, navigateTo, selected))\n",
       "            }\n",
       "\n",
       "            if (currPage === i+2) {\n",
       "                buttonsArray.push(\"...\");\n",
       "            }\n",
       "\n",
       "        }\n",
       "    }\n",
       "\n",
       "    selected = currPage === maxPages - 1 ? \"selected\" : \"\";\n",
       "\n",
       "    buttonsArray.\n",
       "    push(setPageButton(table, maxPages, maxPages - 1, selected))\n",
       "\n",
       "    const buttonsHtml = buttonsArray.join(\"\");\n",
       "    table.parentNode\n",
       "    .querySelector(\".pages-buttons\").innerHTML = buttonsHtml;\n",
       "}\n",
       "\n",
       "function removeSelectionFromAllSortButtons() {\n",
       "    document.querySelectorAll(\".sort-button\")\n",
       "    .forEach(el => el.classList.remove(\"selected\"))\n",
       "}\n",
       "\n",
       "function initTable() {\n",
       "    // template variables we should pass\n",
       "    const initialRows = [\n",
       "    {\n",
       "        \"age\": 30,\n",
       "        \"balance\": 1787,\n",
       "        \"campaign\": 1,\n",
       "        \"contact\": \"cellular\",\n",
       "        \"day\": 19,\n",
       "        \"default\": \"no\",\n",
       "        \"duration\": 79,\n",
       "        \"education\": \"primary\",\n",
       "        \"housing\": \"no\",\n",
       "        \"job\": \"unemployed\",\n",
       "        \"loan\": \"no\",\n",
       "        \"marital\": \"married\",\n",
       "        \"month\": \"oct\",\n",
       "        \"pdays\": -1,\n",
       "        \"poutcome\": \"unknown\",\n",
       "        \"previous\": 0,\n",
       "        \"y\": \"no\"\n",
       "    },\n",
       "    {\n",
       "        \"age\": 33,\n",
       "        \"balance\": 4789,\n",
       "        \"campaign\": 1,\n",
       "        \"contact\": \"cellular\",\n",
       "        \"day\": 11,\n",
       "        \"default\": \"no\",\n",
       "        \"duration\": 220,\n",
       "        \"education\": \"secondary\",\n",
       "        \"housing\": \"yes\",\n",
       "        \"job\": \"services\",\n",
       "        \"loan\": \"yes\",\n",
       "        \"marital\": \"married\",\n",
       "        \"month\": \"may\",\n",
       "        \"pdays\": 339,\n",
       "        \"poutcome\": \"failure\",\n",
       "        \"previous\": 4,\n",
       "        \"y\": \"no\"\n",
       "    },\n",
       "    {\n",
       "        \"age\": 35,\n",
       "        \"balance\": 1350,\n",
       "        \"campaign\": 1,\n",
       "        \"contact\": \"cellular\",\n",
       "        \"day\": 16,\n",
       "        \"default\": \"no\",\n",
       "        \"duration\": 185,\n",
       "        \"education\": \"tertiary\",\n",
       "        \"housing\": \"yes\",\n",
       "        \"job\": \"management\",\n",
       "        \"loan\": \"no\",\n",
       "        \"marital\": \"single\",\n",
       "        \"month\": \"apr\",\n",
       "        \"pdays\": 330,\n",
       "        \"poutcome\": \"failure\",\n",
       "        \"previous\": 1,\n",
       "        \"y\": \"no\"\n",
       "    },\n",
       "    {\n",
       "        \"age\": 30,\n",
       "        \"balance\": 1476,\n",
       "        \"campaign\": 4,\n",
       "        \"contact\": \"unknown\",\n",
       "        \"day\": 3,\n",
       "        \"default\": \"no\",\n",
       "        \"duration\": 199,\n",
       "        \"education\": \"tertiary\",\n",
       "        \"housing\": \"yes\",\n",
       "        \"job\": \"management\",\n",
       "        \"loan\": \"yes\",\n",
       "        \"marital\": \"married\",\n",
       "        \"month\": \"jun\",\n",
       "        \"pdays\": -1,\n",
       "        \"poutcome\": \"unknown\",\n",
       "        \"previous\": 0,\n",
       "        \"y\": \"no\"\n",
       "    },\n",
       "    {\n",
       "        \"age\": 59,\n",
       "        \"balance\": 0,\n",
       "        \"campaign\": 1,\n",
       "        \"contact\": \"unknown\",\n",
       "        \"day\": 5,\n",
       "        \"default\": \"no\",\n",
       "        \"duration\": 226,\n",
       "        \"education\": \"secondary\",\n",
       "        \"housing\": \"yes\",\n",
       "        \"job\": \"blue-collar\",\n",
       "        \"loan\": \"no\",\n",
       "        \"marital\": \"married\",\n",
       "        \"month\": \"may\",\n",
       "        \"pdays\": -1,\n",
       "        \"poutcome\": \"unknown\",\n",
       "        \"previous\": 0,\n",
       "        \"y\": \"no\"\n",
       "    },\n",
       "    {\n",
       "        \"age\": 35,\n",
       "        \"balance\": 747,\n",
       "        \"campaign\": 2,\n",
       "        \"contact\": \"cellular\",\n",
       "        \"day\": 23,\n",
       "        \"default\": \"no\",\n",
       "        \"duration\": 141,\n",
       "        \"education\": \"tertiary\",\n",
       "        \"housing\": \"no\",\n",
       "        \"job\": \"management\",\n",
       "        \"loan\": \"no\",\n",
       "        \"marital\": \"single\",\n",
       "        \"month\": \"feb\",\n",
       "        \"pdays\": 176,\n",
       "        \"poutcome\": \"failure\",\n",
       "        \"previous\": 3,\n",
       "        \"y\": \"no\"\n",
       "    },\n",
       "    {\n",
       "        \"age\": 36,\n",
       "        \"balance\": 307,\n",
       "        \"campaign\": 1,\n",
       "        \"contact\": \"cellular\",\n",
       "        \"day\": 14,\n",
       "        \"default\": \"no\",\n",
       "        \"duration\": 341,\n",
       "        \"education\": \"tertiary\",\n",
       "        \"housing\": \"yes\",\n",
       "        \"job\": \"self-employed\",\n",
       "        \"loan\": \"no\",\n",
       "        \"marital\": \"married\",\n",
       "        \"month\": \"may\",\n",
       "        \"pdays\": 330,\n",
       "        \"poutcome\": \"other\",\n",
       "        \"previous\": 2,\n",
       "        \"y\": \"no\"\n",
       "    },\n",
       "    {\n",
       "        \"age\": 39,\n",
       "        \"balance\": 147,\n",
       "        \"campaign\": 2,\n",
       "        \"contact\": \"cellular\",\n",
       "        \"day\": 6,\n",
       "        \"default\": \"no\",\n",
       "        \"duration\": 151,\n",
       "        \"education\": \"secondary\",\n",
       "        \"housing\": \"yes\",\n",
       "        \"job\": \"technician\",\n",
       "        \"loan\": \"no\",\n",
       "        \"marital\": \"married\",\n",
       "        \"month\": \"may\",\n",
       "        \"pdays\": -1,\n",
       "        \"poutcome\": \"unknown\",\n",
       "        \"previous\": 0,\n",
       "        \"y\": \"no\"\n",
       "    },\n",
       "    {\n",
       "        \"age\": 41,\n",
       "        \"balance\": 221,\n",
       "        \"campaign\": 2,\n",
       "        \"contact\": \"unknown\",\n",
       "        \"day\": 14,\n",
       "        \"default\": \"no\",\n",
       "        \"duration\": 57,\n",
       "        \"education\": \"tertiary\",\n",
       "        \"housing\": \"yes\",\n",
       "        \"job\": \"entrepreneur\",\n",
       "        \"loan\": \"no\",\n",
       "        \"marital\": \"married\",\n",
       "        \"month\": \"may\",\n",
       "        \"pdays\": -1,\n",
       "        \"poutcome\": \"unknown\",\n",
       "        \"previous\": 0,\n",
       "        \"y\": \"no\"\n",
       "    },\n",
       "    {\n",
       "        \"age\": 43,\n",
       "        \"balance\": -88,\n",
       "        \"campaign\": 1,\n",
       "        \"contact\": \"cellular\",\n",
       "        \"day\": 17,\n",
       "        \"default\": \"no\",\n",
       "        \"duration\": 313,\n",
       "        \"education\": \"primary\",\n",
       "        \"housing\": \"yes\",\n",
       "        \"job\": \"services\",\n",
       "        \"loan\": \"yes\",\n",
       "        \"marital\": \"married\",\n",
       "        \"month\": \"apr\",\n",
       "        \"pdays\": 147,\n",
       "        \"poutcome\": \"failure\",\n",
       "        \"previous\": 2,\n",
       "        \"y\": \"no\"\n",
       "    }\n",
       "];\n",
       "    const columns = ['age', 'job', 'marital', 'education', 'default', 'balance', 'housing', 'loan', 'contact', 'day', 'month', 'duration', 'campaign', 'pdays', 'previous', 'poutcome', 'y'];\n",
       "    const rowsPerPage=10;\n",
       "    const nPages=453;\n",
       "    const nTotal=4521;\n",
       "    const tableName=\"bank\";\n",
       "    const tableContainerId = \"tableContainer_1689322150\";\n",
       "    const options = [10, 25, 50, 100];\n",
       "    options_html =\n",
       "    options.map(option => `<option value=${option}>${option}</option>`);\n",
       "\n",
       "\n",
       "    let ths_ = columns.map(col => `<th>${col}</th>`).join(\"\");\n",
       "\n",
       "    let table = `\n",
       "    <div>\n",
       "        <span style=\"margin-right: 5px\">Show</span>\n",
       "        <select\n",
       "        onchange=\"handleRowsNumberOfRowsChange(this)\">\n",
       "            ${options_html}\n",
       "        </select>\n",
       "        <span style=\"margin-left: 5px\">entries</span>\n",
       "    </div>\n",
       "\n",
       "    <table\n",
       "        class=\"jupysql-table-widget\"\n",
       "        style='width:100%'\n",
       "        curr-page-idx=0\n",
       "        rows-per-page=${rowsPerPage}\n",
       "        max-pages = ${nPages}\n",
       "        n-total=${nTotal}\n",
       "        table-name=${tableName}\n",
       "    >\n",
       "        <thead>\n",
       "            <tr>\n",
       "                ${ths_}\n",
       "            </tr>\n",
       "        </thead>\n",
       "\n",
       "        <tbody>\n",
       "        </tbody>\n",
       "    </table>\n",
       "\n",
       "\n",
       "    <div style=\"padding-bottom: 20px;\">\n",
       "        <button onclick=\"prevPageClick(this)\">Previous</button>\n",
       "        <div\n",
       "            id = \"pagesButtons\"\n",
       "            class = \"pages-buttons\"\n",
       "            style = \"display: inline-flex\">\n",
       "        </div>\n",
       "        <button onclick=\"nextPageClick(this)\">Next</button>\n",
       "    </div>\n",
       "    `\n",
       "\n",
       "    let tableContainer = document.querySelector(`#${tableContainerId}`);\n",
       "\n",
       "    tableContainer.innerHTML = table\n",
       "\n",
       "    if (initialRows) {\n",
       "        initializeTableRows(tableContainer, rowsPerPage, initialRows)\n",
       "\n",
       "    } else {\n",
       "        setTimeout(() => {\n",
       "            const fetchParameters = {\n",
       "                rowsPerPage : rowsPerPage,\n",
       "                page : 0,\n",
       "                sort : getSortDetails(),\n",
       "                table : tableName\n",
       "            }\n",
       "\n",
       "            fetchTableData(fetchParameters, (rows) => {\n",
       "                initializeTableRows(tableContainer, rowsPerPage, rows)\n",
       "            })\n",
       "        }, 100);\n",
       "    }\n",
       "    \n",
       "}\n",
       "\n",
       "function initializeTableRows(tableContainer, rowsPerPage, rows) {\n",
       "    updateTable(rows, 0,\n",
       "        tableContainer.querySelector(\"table\"));\n",
       "    // update ths_ to make sure order columns\n",
       "    // are matching the data\n",
       "    if (rows.length > 0) {\n",
       "        let row = rows[0];\n",
       "        let ths_ =\n",
       "        Object.keys(row).map(col =>\n",
       "        `<th>\n",
       "            <div style=\"display: inline-flex; height: 40px\">\n",
       "                <span style=\"line-height: 40px\">${col}</span>\n",
       "                <span style=\"width: 40px;\">\n",
       "                    <button\n",
       "                        class = \"sort-button\"\n",
       "                        onclick='sortColumnClick(this,\n",
       "                        \"${col}\", \"ASC\",\n",
       "                        (rows) => {\n",
       "                            const table = getTable(this);\n",
       "                            const currPage =\n",
       "                            parseInt(table.getAttribute(\"curr-page-idx\"));\n",
       "                            updateTable(rows, currPage);\n",
       "                            removeSelectionFromAllSortButtons()\n",
       "                            this.className += \" selected\"\n",
       "                            }\n",
       "                        )'\n",
       "                        title=\"Sort\"\n",
       "                        >▴\n",
       "                    </button>\n",
       "                    <button\n",
       "                        class = \"sort-button\"\n",
       "                        onclick='sortColumnClick(this,\n",
       "                        \"${col}\", \"DESC\",\n",
       "                        (rows) => {\n",
       "                            const table = getTable(this);\n",
       "                            const currPage = parseInt(\n",
       "                                table.getAttribute(\"curr-page-idx\"));\n",
       "                            updateTable(rows, currPage);\n",
       "                            removeSelectionFromAllSortButtons()\n",
       "                            this.className += \" selected\"\n",
       "                            }\n",
       "                        )'\n",
       "                        title=\"Sort\"\n",
       "                        >▾\n",
       "                    </button>\n",
       "                </span>\n",
       "            </div>\n",
       "\n",
       "            </th>`).join(\"\");\n",
       "        let thead = tableContainer.querySelector(\"thead\")\n",
       "        thead.innerHTML = ths_\n",
       "    }\n",
       "}\n",
       "\n",
       "initTable()</script>\n",
       "    "
      ],
      "text/plain": [
       "<sql.widgets.table_widget.table_widget.TableWidget at 0x7fdf688068f0>"
      ]
     },
     "metadata": {},
     "output_type": "display_data"
    }
   ],
   "source": [
    "%sqlcmd explore --table bank"
   ]
  },
  {
   "cell_type": "markdown",
   "id": "197e3d9f",
   "metadata": {
    "slideshow": {
     "slide_type": "subslide"
    }
   },
   "source": [
    "Let's take the different prompting techniques for a ride.\n",
    "\n",
    "We will ask a GPT model to translate a natural language question into SQL. "
   ]
  },
  {
   "cell_type": "code",
   "execution_count": 43,
   "id": "ad4cc297",
   "metadata": {
    "slideshow": {
     "slide_type": "fragment"
    }
   },
   "outputs": [],
   "source": [
    "pm  = Prompter(open_ai_key, \"gpt-3.5-turbo\")"
   ]
  },
  {
   "cell_type": "markdown",
   "id": "420334b0",
   "metadata": {
    "slideshow": {
     "slide_type": "subslide"
    }
   },
   "source": [
    "Zero-shot results."
   ]
  },
  {
   "cell_type": "code",
   "execution_count": 44,
   "id": "3eb2e073",
   "metadata": {
    "slideshow": {
     "slide_type": "fragment"
    }
   },
   "outputs": [
    {
     "data": {
      "text/plain": [
       "'To determine the number of unique jobs in the table \"bank\", we need to look at the distinct values in the \"job\" column. Unfortunately, without the actual data in the table, it is not possible to provide an exact answer. However, you can run a query on the table to find the distinct values in the \"job\" column and count them. Here is an example query in SQL:\\n\\nSELECT COUNT(DISTINCT job) AS unique_jobs\\nFROM bank;\\n\\nThis query will return the number of unique jobs in the \"bank\" table.'"
      ]
     },
     "execution_count": 44,
     "metadata": {},
     "output_type": "execute_result"
    }
   ],
   "source": [
    "pm.natural_language_zero_shot(\"bank\", column_names, \"How many unique jobs are there?\")"
   ]
  },
  {
   "cell_type": "code",
   "execution_count": 45,
   "id": "988f4107",
   "metadata": {
    "slideshow": {
     "slide_type": "fragment"
    }
   },
   "outputs": [
    {
     "data": {
      "text/plain": [
       "\"I'm sorry, but I cannot provide the answer to that question as it requires access to the data in the table.\""
      ]
     },
     "execution_count": 45,
     "metadata": {},
     "output_type": "execute_result"
    }
   ],
   "source": [
    "pm.natural_language_zero_shot(\"bank\", column_names, \"What is the total balance for employees by education?\")"
   ]
  },
  {
   "cell_type": "markdown",
   "id": "84781b46",
   "metadata": {
    "slideshow": {
     "slide_type": "subslide"
    }
   },
   "source": [
    "Single-shot results."
   ]
  },
  {
   "cell_type": "code",
   "execution_count": 46,
   "id": "f018d103",
   "metadata": {
    "slideshow": {
     "slide_type": "fragment"
    }
   },
   "outputs": [
    {
     "data": {
      "text/plain": [
       "'SELECT COUNT(DISTINCT job) FROM bank'"
      ]
     },
     "execution_count": 46,
     "metadata": {},
     "output_type": "execute_result"
    }
   ],
   "source": [
    "pm.natural_language_single_shot(\"bank\", column_names, \"How many unique jobs are there?\")"
   ]
  },
  {
   "cell_type": "code",
   "execution_count": 47,
   "id": "742c7c68",
   "metadata": {
    "slideshow": {
     "slide_type": "fragment"
    }
   },
   "outputs": [
    {
     "data": {
      "text/plain": [
       "'SELECT education, SUM(balance) AS total_balance\\nFROM bank\\nGROUP BY education'"
      ]
     },
     "execution_count": 47,
     "metadata": {},
     "output_type": "execute_result"
    }
   ],
   "source": [
    "pm.natural_language_single_shot(\"bank\", column_names, \"What is the total balance for employees by education?\")"
   ]
  },
  {
   "cell_type": "markdown",
   "id": "7e80111b",
   "metadata": {
    "slideshow": {
     "slide_type": "subslide"
    }
   },
   "source": [
    "Few-shot results."
   ]
  },
  {
   "cell_type": "code",
   "execution_count": 48,
   "id": "b386a3d4",
   "metadata": {
    "slideshow": {
     "slide_type": "fragment"
    }
   },
   "outputs": [
    {
     "data": {
      "text/plain": [
       "\"To find the number of unique jobs in the table 'bank', you can use the following query:\\n\\nSELECT COUNT(DISTINCT job) FROM bank\\n\\nThis query will return the count of distinct job values in the 'bank' table.\""
      ]
     },
     "execution_count": 48,
     "metadata": {},
     "output_type": "execute_result"
    }
   ],
   "source": [
    "pm.natural_language_few_shot(\"bank\", column_names, \"How many unique jobs are there?\")"
   ]
  },
  {
   "cell_type": "code",
   "execution_count": 49,
   "id": "63d54dd4",
   "metadata": {
    "slideshow": {
     "slide_type": "fragment"
    }
   },
   "outputs": [
    {
     "data": {
      "text/plain": [
       "'To find the total balance for employees by education, you can use the following SQL query:\\n\\nSELECT education, SUM(balance) AS total_balance\\nFROM bank\\nGROUP BY education;'"
      ]
     },
     "execution_count": 49,
     "metadata": {},
     "output_type": "execute_result"
    }
   ],
   "source": [
    "pm.natural_language_few_shot(\"bank\", column_names, \"What is the total balance for employees by education?\")"
   ]
  },
  {
   "cell_type": "markdown",
   "id": "8742bab4",
   "metadata": {
    "slideshow": {
     "slide_type": "subslide"
    }
   },
   "source": [
    "Roles-based results."
   ]
  },
  {
   "cell_type": "code",
   "execution_count": 50,
   "id": "079af235",
   "metadata": {
    "slideshow": {
     "slide_type": "fragment"
    }
   },
   "outputs": [
    {
     "data": {
      "text/plain": [
       "'SELECT COUNT(DISTINCT job) FROM bank'"
      ]
     },
     "execution_count": 50,
     "metadata": {},
     "output_type": "execute_result"
    }
   ],
   "source": [
    "pm.natural_language_with_roles(\"bank\", column_names, \"How many unique jobs are there?\")"
   ]
  },
  {
   "cell_type": "code",
   "execution_count": 52,
   "id": "faa8821c",
   "metadata": {
    "slideshow": {
     "slide_type": "fragment"
    }
   },
   "outputs": [
    {
     "data": {
      "text/plain": [
       "'SELECT education, SUM(balance) AS total_balance FROM bank GROUP BY education'"
      ]
     },
     "execution_count": 52,
     "metadata": {},
     "output_type": "execute_result"
    }
   ],
   "source": [
    "pm.natural_language_with_roles(\"bank\", column_names, \"What is the total balance for employees by education?\")"
   ]
  },
  {
   "cell_type": "code",
   "execution_count": 53,
   "id": "3b2aace6",
   "metadata": {
    "slideshow": {
     "slide_type": "fragment"
    }
   },
   "outputs": [
    {
     "data": {
      "text/html": [
       "<span style=\"None\">Running query in &#x27;duckdb:///bank.duck.db&#x27;</span>"
      ],
      "text/plain": [
       "Running query in 'duckdb:///bank.duck.db'"
      ]
     },
     "metadata": {},
     "output_type": "display_data"
    },
    {
     "data": {
      "text/html": [
       "<table>\n",
       "    <thead>\n",
       "        <tr>\n",
       "            <th>count(DISTINCT job)</th>\n",
       "        </tr>\n",
       "    </thead>\n",
       "    <tbody>\n",
       "        <tr>\n",
       "            <td>12</td>\n",
       "        </tr>\n",
       "    </tbody>\n",
       "</table>"
      ],
      "text/plain": [
       "+---------------------+\n",
       "| count(DISTINCT job) |\n",
       "+---------------------+\n",
       "|          12         |\n",
       "+---------------------+"
      ]
     },
     "execution_count": 53,
     "metadata": {},
     "output_type": "execute_result"
    }
   ],
   "source": [
    "%%sql\n",
    "SELECT COUNT(DISTINCT job) FROM bank"
   ]
  },
  {
   "cell_type": "markdown",
   "id": "3ab5666a",
   "metadata": {
    "slideshow": {
     "slide_type": "slide"
    }
   },
   "source": [
    "<h1 align='center'>Prompting open source LLMs through HuggingFace</h1>\n",
    "\n",
    "\n",
    "You need to ensure you install the right modules via `pip` along with the model card of the LLM.\n",
    "\n",
    "<p></p>\n",
    "<center>\n",
    "  <img src=\"diagrams/hftasks.png\" width=\"1300px\"/>\n",
    "\n",
    "</center>\n",
    "\n",
    "\n",
    "Example: https://huggingface.co/microsoft/tapex-base"
   ]
  },
  {
   "cell_type": "markdown",
   "id": "b3868107",
   "metadata": {
    "slideshow": {
     "slide_type": "slide"
    }
   },
   "source": [
    "<h1 align='center'>The reality of prompting open source models</h1>\n",
    "\n",
    "<p></p>\n",
    "<center>\n",
    "  <img src=\"diagrams/this-is-fine.jpeg\" width=\"1200px\"/>\n",
    "\n",
    "</center>\n"
   ]
  },
  {
   "cell_type": "markdown",
   "id": "b65aa906",
   "metadata": {
    "slideshow": {
     "slide_type": "subslide"
    }
   },
   "source": [
    "<h1 align='center'>The reality of prompting open source models</h1>\n",
    "\n",
    "* HuggingFace hosted models resemble GitHub repos (but not in a good way).\n",
    "* Dependency hell\n",
    "* Prompting results vary across different models.\n",
    "* Model documentation ranges from non-existent to minimal.\n",
    "* Higher likelihood that you'll need to find the base model and fine-tune your data for better results.\n"
   ]
  },
  {
   "cell_type": "code",
   "execution_count": null,
   "id": "cd8bedc4",
   "metadata": {
    "slideshow": {
     "slide_type": "subslide"
    }
   },
   "outputs": [],
   "source": [
    "from transformers import AutoModelWithLMHead, AutoTokenizer\n",
    "\n",
    "tokenizer = AutoTokenizer.from_pretrained(\"mrm8488/t5-base-finetuned-wikiSQL\")\n",
    "model = AutoModelWithLMHead.from_pretrained(\"mrm8488/t5-base-finetuned-wikiSQL\")"
   ]
  },
  {
   "cell_type": "code",
   "execution_count": 54,
   "id": "1b84aeff",
   "metadata": {
    "slideshow": {
     "slide_type": "subslide"
    }
   },
   "outputs": [
    {
     "data": {
      "text/plain": [
       "'<pad> SELECT COUNT Entry FROM table</s>'"
      ]
     },
     "execution_count": 54,
     "metadata": {},
     "output_type": "execute_result"
    }
   ],
   "source": [
    "def get_sql(query, db_name, schema):\n",
    "    input_text = \"translate English to SQL: %s </s>\" % query\n",
    "    features = tokenizer([input_text], return_tensors='pt')\n",
    "\n",
    "    output = model.generate(input_ids=features['input_ids'], \n",
    "               attention_mask=features['attention_mask'])\n",
    "\n",
    "    return tokenizer.decode(output[0])\n",
    "\n",
    "# Translate\n",
    "natural_question =  \"How many entries are there?\" \n",
    "db_name = \"banks\"\n",
    "schema = column_names\n",
    "\n",
    "get_sql(natural_question, db_name, schema)"
   ]
  },
  {
   "cell_type": "markdown",
   "id": "35de1ce9",
   "metadata": {
    "slideshow": {
     "slide_type": "subslide"
    }
   },
   "source": [
    "<h1 align='center'>How to guide your choices</h1>\n",
    "\n",
    "1. Remember your use case, the business constraints and who will use your application\n",
    "2. Remember the three base models and their keywords\n",
    "3. Be ready for the possibility of fine-tuning\n",
    "\n",
    "\n",
    "| Tranformer type | Architecture|Model-like | Focus | Example| \n",
    "|-|-|-|-|-|\n",
    "| Auto-regressive | Decoder-only |GPT-like | Generative tasks | Chat bot | \n",
    "| Auto-encoding | Encoder-only |BERT-like | Understanding of the input | Question-answering|\n",
    "| Sequence-to-Sequence |Encoder-decoder |BART/T5-like | Generative tasks that require an input | Language translation|"
   ]
  },
  {
   "cell_type": "markdown",
   "id": "121dcfb7",
   "metadata": {
    "slideshow": {
     "slide_type": "slide"
    }
   },
   "source": [
    "<h1 align='center'>Part II: Agents and open source frameworks</h1>\n",
    "\n",
    "The frameworks introduced here can both be installed via `pip` and imported as modules into your Python script. \n",
    "\n",
    "Both of them offer agents, although they approach the implementation differently. "
   ]
  },
  {
   "cell_type": "markdown",
   "id": "8fabba38",
   "metadata": {
    "slideshow": {
     "slide_type": "slide"
    }
   },
   "source": [
    "<h1 align='center'>Introducing</h1>\n",
    "<center>\n",
    "  <img src=\"diagrams/langchain.png\" width=\"500px\"/>\n",
    "\n",
    "</center>\n",
    "\n",
    "LangChain is a framework for developing applications powered by language models. It enables applications that are:\n",
    "\n",
    "Data-aware: connect a language model to other sources of data\n",
    "\n",
    "Agentic: allow a language model to interact with its environment\n"
   ]
  },
  {
   "cell_type": "markdown",
   "id": "e7afb69e",
   "metadata": {
    "slideshow": {
     "slide_type": "slide"
    }
   },
   "source": [
    "<h1 align='center'>How does LangChain approach Agents?</h1>\n",
    "<center>\n",
    "  <img src=\"diagrams/langchain.png\" width=\"500px\"/>\n",
    "\n",
    "</center>\n",
    "\n",
    "With LangChain we think in terms of **components** and **off-the-shelf chains**."
   ]
  },
  {
   "cell_type": "markdown",
   "id": "697e808f",
   "metadata": {
    "slideshow": {
     "slide_type": "subslide"
    }
   },
   "source": [
    "<h1 align='center'>How to incorporate it into your scripts</h1>\n",
    "<center>\n",
    "  <img src=\"diagrams/langchain.png\" width=\"500px\"/>\n",
    "\n",
    "</center>\n",
    "\n",
    "You can build your custom functions in Python and use their `@tool` decorator. Then after initializing LangChain along with the GPT model you want, you can then ask it to perform tasks with natural language commands. "
   ]
  },
  {
   "cell_type": "markdown",
   "id": "87c34771",
   "metadata": {
    "slideshow": {
     "slide_type": "subslide"
    }
   },
   "source": [
    "<h1 align='center'>Example: automate the creation of social media posts from web pages</h1>\n",
    "<center>\n",
    "  <img src=\"diagrams/langchain.png\" width=\"500px\"/>\n",
    "\n",
    "</center>\n",
    "\n",
    "Tools the agent was given:\n",
    "\n",
    "1. A web scraper\n",
    "2. A GPT based prompter with `system` and `user` content\n",
    "3. Instructions to summarize the webpage and then write a social media post about the summary"
   ]
  },
  {
   "cell_type": "markdown",
   "id": "05d9284a",
   "metadata": {
    "slideshow": {
     "slide_type": "slide"
    }
   },
   "source": [
    "<h1 align='center'>Introducing</h1>\n",
    "<center>\n",
    "  <img src=\"diagrams/haystack-ogimage.png\" width=\"500px\"/>\n",
    "\n",
    "</center>\n",
    "\n",
    "Haystack is an open-source framework for building search systems that work intelligently over large document collections."
   ]
  },
  {
   "cell_type": "markdown",
   "id": "e99c2fc3",
   "metadata": {
    "slideshow": {
     "slide_type": "subslide"
    }
   },
   "source": [
    "<center>\n",
    "  <img src=\"diagrams/haystack-ogimage.png\" width=\"500px\"/>\n",
    "\n",
    "</center>\n",
    "\n",
    "- Call open source models as well as private ones\n",
    "- Build production-ready NLP pipelines with their custom-built tools\n",
    "- Machinery for unstructured data processing (text)\n",
    "- Leverage their prompt templates\n",
    "- Incorporate Agents\n",
    "- Deploy via REST API\n"
   ]
  },
  {
   "cell_type": "markdown",
   "id": "dd2916f9",
   "metadata": {
    "slideshow": {
     "slide_type": "subslide"
    }
   },
   "source": [
    "<h1 align='center'>How does Haystack approach Agents?</h1>\n",
    "<center>\n",
    "  <img src=\"diagrams/haystack-ogimage.png\" width=\"500px\"/>\n",
    "\n",
    "</center>\n",
    "\n",
    "They rely heavily on the use of **prompt nodes**, the **pipelines** that connect them, expanding their functionality through **agents** and deploying via a REST API.\n",
    "\n",
    "They first developed the framework with document stores, nodes to process information, and pipelines to connect the nodes, AND THEN built agent functionality on top of it.\n",
    "\n",
    "**If you can get comfortable thinking in these terms, you will be able to leverage their application from prototyping to production for your documents.**"
   ]
  },
  {
   "cell_type": "markdown",
   "id": "2a32ac5a",
   "metadata": {
    "slideshow": {
     "slide_type": "subslide"
    }
   },
   "source": [
    "<h1 align='center'>Key concepts</h1>\n",
    "\n",
    "<p></p>\n",
    "<center>\n",
    "  <img src=\"diagrams/haystack-ogimage.png\" width=\"400px\"/>\n",
    "\n",
    "</center>\n",
    "<p></p>\n",
    "<center>\n",
    "  <img src=\"diagrams/haystack.png\" width=\"1200px\"/>\n",
    "\n",
    "</center>"
   ]
  },
  {
   "cell_type": "markdown",
   "id": "3d9505a3",
   "metadata": {
    "slideshow": {
     "slide_type": "subslide"
    }
   },
   "source": [
    "<h1 align='center'>Sample ready-to-use Natural Language pipelines</h1>\n",
    "\n",
    "* `ExtractiveQAPipeline`\n",
    "* `DocumentSearchPipeline`\n",
    "* `GenerativeQAPipeline`\n",
    "* `WebQAPipeline`\n",
    "* `SearchSummarizationPipeline`\n",
    "* `TextIndexingPipeline`\n",
    "* `TranslationWrapperPipeline`\n",
    "* `FAQPipeline`\n",
    "* `QuestionGenerationPipeline`\n",
    "* `QuestionAnswerGenerationPipeline`\n",
    "* `MostSimilarDocumentsPipeline`\n",
    "\n",
    "You can create your custom pipelines too. Get familiar with the idea indexing, querying, document stores and their prompt node classes. "
   ]
  },
  {
   "cell_type": "markdown",
   "id": "85ed0bf7",
   "metadata": {
    "slideshow": {
     "slide_type": "slide"
    }
   },
   "source": [
    "<h1 align='center'>LangChain Pros & Cons</h1>\n",
    "\n",
    "**Pros**\n",
    "1. Easy to get started with\n",
    "2. Maps easily to OpenAI API chat completion end point\n",
    "3. Can easily connect to a variety of applications based on your function definition\n",
    "\n",
    "**Cons**\n",
    "1. Security issues (?) \n",
    "2. Evaluation of results \n",
    "3. Deployment \n",
    "4. Integration to open LLMs is not clear"
   ]
  },
  {
   "cell_type": "markdown",
   "id": "6c64362f",
   "metadata": {
    "slideshow": {
     "slide_type": "slide"
    }
   },
   "source": [
    "<h1 align='center'>Haystack Pros & Cons</h1>\n",
    "\n",
    "**Pros**\n",
    "1. Established framework with a focus on production-ready NLP applications\n",
    "2. Constantly adapting to new changes and building on top of their framework\n",
    "3. Can be deployed to AWS\n",
    "4. Offers solutions for your custom documents \n",
    "5. Offers prompt templates\n",
    "\n",
    "**Cons**\n",
    "1. Steeper learning curve\n",
    "2. Current deployment option is REST API, but other options currently not available\n",
    "3. Limitations on the types of files it can handle (PDF and markdown currently not supported) \n",
    "4. Narrower focus when it comes to the types of agents it supports (although you can create custom agents, through custom nodes)"
   ]
  }
 ],
 "metadata": {
  "celltoolbar": "Slideshow",
  "kernelspec": {
   "display_name": "Python-LLM",
   "language": "python",
   "name": "llm-env"
  },
  "language_info": {
   "codemirror_mode": {
    "name": "ipython",
    "version": 3
   },
   "file_extension": ".py",
   "mimetype": "text/x-python",
   "name": "python",
   "nbconvert_exporter": "python",
   "pygments_lexer": "ipython3",
   "version": "3.10.0"
  }
 },
 "nbformat": 4,
 "nbformat_minor": 5
}
