{
 "cells": [
  {
   "cell_type": "code",
   "execution_count": 1,
   "id": "94275820",
   "metadata": {
    "slideshow": {
     "slide_type": "skip"
    }
   },
   "outputs": [],
   "source": [
    "from datasets import load_dataset\n",
    "from transformers import AutoModelForSeq2SeqLM\n",
    "from transformers import AutoTokenizer\n",
    "from transformers import GenerationConfig\n",
    "import transformers\n",
    "import torch\n",
    "from dotenv import load_dotenv\n",
    "import os\n",
    "import openai\n",
    "import banking  # noqa: E402\n",
    "from private_prompting import Prompter\n",
    "load_dotenv(\".env\")\n",
    "\n",
    "open_ai_key = os.environ.get(\"openai-key\")\n"
   ]
  },
  {
   "cell_type": "markdown",
   "id": "35b54edc",
   "metadata": {
    "slideshow": {
     "slide_type": "skip"
    }
   },
   "source": [
    "Download data and initialize a DuckDB instance. "
   ]
  },
  {
   "cell_type": "code",
   "execution_count": 2,
   "id": "b9a3cb54",
   "metadata": {
    "slideshow": {
     "slide_type": "skip"
    }
   },
   "outputs": [],
   "source": [
    "_ = banking.BankingData(\"https://tinyurl.com/jb-bank\", \"bank\")\n",
    "_.extract_to_csv()\n",
    "\n",
    "# Loading in SQL extension\n",
    "%reload_ext sql\n",
    "# Initiating a DuckDB database named 'bank.duck.db' to run our SQL queries on\n",
    "%sql duckdb:///banco.duck.db"
   ]
  },
  {
   "cell_type": "markdown",
   "id": "69b58650",
   "metadata": {
    "slideshow": {
     "slide_type": "skip"
    }
   },
   "source": [
    "Create table."
   ]
  },
  {
   "cell_type": "code",
   "execution_count": 3,
   "id": "6cec2da1",
   "metadata": {
    "slideshow": {
     "slide_type": "skip"
    }
   },
   "outputs": [
    {
     "data": {
      "text/html": [
       "<span style=\"None\">Running query in &#x27;duckdb:///banco.duck.db&#x27;</span>"
      ],
      "text/plain": [
       "Running query in 'duckdb:///banco.duck.db'"
      ]
     },
     "metadata": {},
     "output_type": "display_data"
    },
    {
     "data": {
      "text/html": [
       "<table>\n",
       "    <thead>\n",
       "        <tr>\n",
       "            <th>Count</th>\n",
       "        </tr>\n",
       "    </thead>\n",
       "    <tbody>\n",
       "        <tr>\n",
       "            <td>4521</td>\n",
       "        </tr>\n",
       "    </tbody>\n",
       "</table>"
      ],
      "text/plain": [
       "+-------+\n",
       "| Count |\n",
       "+-------+\n",
       "|  4521 |\n",
       "+-------+"
      ]
     },
     "execution_count": 3,
     "metadata": {},
     "output_type": "execute_result"
    }
   ],
   "source": [
    "%sql CREATE OR REPLACE TABLE bank AS FROM read_csv_auto('bank_cleaned.csv', header=True, sep=',')"
   ]
  },
  {
   "cell_type": "code",
   "execution_count": 4,
   "id": "edb07c67",
   "metadata": {
    "slideshow": {
     "slide_type": "skip"
    }
   },
   "outputs": [
    {
     "data": {
      "text/html": [
       "<span style=\"None\">Running query in &#x27;duckdb:///banco.duck.db&#x27;</span>"
      ],
      "text/plain": [
       "Running query in 'duckdb:///banco.duck.db'"
      ]
     },
     "metadata": {},
     "output_type": "display_data"
    }
   ],
   "source": [
    "# Extract column names\n",
    "columns = %sql PRAGMA table_info('bank');\n",
    "column_names = [row[1] for row in columns]"
   ]
  },
  {
   "cell_type": "markdown",
   "id": "7c18c8a3",
   "metadata": {
    "slideshow": {
     "slide_type": "slide"
    }
   },
   "source": [
    "<h1 align='center'>Prompts (indicaciones)  & Agentes</h1>\n",
    "\n",
    "<h3 align='center'>Cómo incorporar Prompts en tus scripts de Python y expandir su funcionalidad a través de los agentes</h3>\n",
    "\n",
    "<h4 align='center'>Laura Funderburk</h4>\n",
    "\n"
   ]
  },
  {
   "cell_type": "markdown",
   "id": "1b666908",
   "metadata": {
    "slideshow": {
     "slide_type": "slide"
    }
   },
   "source": [
    "<h2 align='center'>Sobre mí</h2>\n",
    "\n",
    "* Developer Advocate @ Ploomber (hablando y compartiendo conocimientos sobre herramientas para mejorar el flujo de trabajo de la ciencia de datos)\n",
    "\n",
    "* Anteriormente científica de datos (sector con fines de lucro, sector sin fines de lucro)\n",
    "\n",
    "* Profundamente curiosa acerca de la IA generativa, Modelos de Lenguaje Grande, con un enfoque en ingeniería y automatización\n",
    "\n",
    "* Utilizo LLMs, indicaciones y agentes para automatizar tareas de trabajo"
   ]
  },
  {
   "cell_type": "markdown",
   "id": "be80b748",
   "metadata": {
    "slideshow": {
     "slide_type": "slide"
    }
   },
   "source": [
    "<h2 align='center'>Resumen de la charla</h2>\n",
    "\n",
    "<h3 align='center'>Parte I: Indicaciones (40 minutos)</h3>\n",
    "\n",
    "1. Casos de uso y tareas de LLMs\n",
    "2. El ciclo de vida del proyecto de IA Generativa\n",
    "3. Elegir la arquitectura de LLM correcta\n",
    "4. Elementos clave de las indicaciones y técnicas de indicación\n",
    "5. Indicaciones para LLMs privados (API de OpenAI): ChatCompletion\n",
    "6. Indicaciones para LLMs de código abierto a través de HuggingFace\n"
   ]
  },
  {
   "cell_type": "markdown",
   "id": "7d6bc99d",
   "metadata": {
    "slideshow": {
     "slide_type": "slide"
    }
   },
   "source": [
    "<h2 align='center'>Resumen de la charla</h2>\n",
    "\n",
    "<h3 align='center'>Parte II: Agentes y marcos de trabajo de código abierto (20 minutos)</h3>\n",
    "\n",
    "1. ¿Qué son los agentes?\n",
    "2. Introducción a Haystack\n",
    "3. Introducción a LangChain\n",
    "4. Técnicas para combinar indicaciones y agentes para el despliegue de aplicaciones\n",
    "5. Pros y contras de cada uno"
   ]
  },
  {
   "cell_type": "markdown",
   "id": "fdb9f5f0",
   "metadata": {
    "slideshow": {
     "slide_type": "slide"
    }
   },
   "source": [
    "<h1 align='center'>Parte I: Indicaciones</h1>"
   ]
  },
  {
   "cell_type": "markdown",
   "id": "fbb1f923",
   "metadata": {
    "slideshow": {
     "slide_type": "slide"
    }
   },
   "source": [
    "<h2 align='center'>Casos de uso y tareas de LLMs</h2>\n",
    "\n",
    "* Resumen de texto\n",
    "\n",
    "* Conversación\n",
    "\n",
    "* Traducción\n",
    "\n",
    "* Generación de texto\n",
    "\n",
    "* Clasificación de texto, tokens y sentimientos\n",
    "\n",
    "* Preguntas y respuestas de tablas y de datos no estructurados\n",
    "\n",
    "* Similitud de frases\n",
    "\n",
    "* Enmascaramiento"
   ]
  },
  {
   "cell_type": "markdown",
   "id": "5d4370d0",
   "metadata": {
    "slideshow": {
     "slide_type": "slide"
    }
   },
   "source": [
    "<h2 align='center'>Casos de uso y tareas de LLMs</h2>\n",
    "\n",
    "<h3 align='center'>Tu objetivo es entender el caso de negocio que estás resolviendo, y luego seleccionar los métodos apropiados para resolverlo</h3>\n",
    "\n",
    "$\\Rightarrow$ ¿Quién se beneficiará de tu producto?\n",
    "\n",
    "$\\Rightarrow$ ¿Cuáles son las restricciones empresariales (tiempo, datos, recursos)?\n",
    "\n",
    "$\\Rightarrow$ ¿Cuál es el resultado final?\n",
    "\n",
    "$\\Rightarrow$ ¿Cómo será servido?\n"
   ]
  },
  {
   "cell_type": "markdown",
   "id": "6b3f2a51",
   "metadata": {
    "slideshow": {
     "slide_type": "slide"
    }
   },
   "source": [
    "<h2 align='center'>El ciclo de vida del proyecto de IA generativa</h2>\n",
    "\n",
    "<p></p>\n",
    "\n",
    "<center>\n",
    "  <img src=\"diagrams/genai_project_lifecycle.jpg\" width=\"1200px\"/>\n",
    "\n",
    "</center>\n",
    "\n",
    "Source: Coursera, Generative AI with LLMs"
   ]
  },
  {
   "cell_type": "markdown",
   "id": "a0ecc728",
   "metadata": {
    "slideshow": {
     "slide_type": "slide"
    }
   },
   "source": [
    "<h2 align='center'>Enfoque de esta charla</h2>\n",
    "\n",
    "<p></p>\n",
    "<center>\n",
    "  <img src=\"diagrams/genai_project_lifecycle_focus.jpg\" width=\"1200px\"/>\n",
    "\n",
    "</center>"
   ]
  },
  {
   "cell_type": "markdown",
   "id": "1e68a8bd",
   "metadata": {
    "slideshow": {
     "slide_type": "slide"
    }
   },
   "source": [
    "<h2 align='center'>Elegir la arquitectura de LLM correcta</h2>\n",
    "\n",
    "<p></p>\n",
    "<center>\n",
    "  <img src=\"diagrams/opt.jpeg\" width=\"200px\"/>\n",
    "\n",
    "</center>\n",
    "\n",
    "\n",
    "* Transformadores solo de decodificador: Bueno para **tareas generativas** (auto-regresivas)\n",
    "* Transformadores solo de codificador: Bueno para tareas que requieren **entender la entrada de datos** (auto-codificación)\n",
    "* Transformadores de codificador-decodificador o modelos de secuencia a secuencia: Bueno para **tareas generativas que requieren entrada de datos**\n",
    "\n",
    "\n",
    "\n",
    "\n"
   ]
  },
  {
   "cell_type": "markdown",
   "id": "6f0dfd13",
   "metadata": {
    "slideshow": {
     "slide_type": "slide"
    }
   },
   "source": [
    "<h2 align='center'>Elegir la arquitectura de LLM correcta </h2>\n",
    "\n",
    "<p></p>\n",
    "\n",
    "|Tipo de Transformador\t| Arquitectura\t| Modelo similar\t| Enfoque\t|Ejemplo|\n",
    "|-|-|-|-|-|\n",
    "| Auto-regresivo\t| Solo decodificador\t| Tipo GPT\t| Tareas generativas\t|Chat bot |\n",
    "| Auto-codificación\t| Solo codificador\t| Tipo BERT\t| Comprensión de la entrada\tde datos| Respuesta a preguntas|\n",
    "| Secuencia-a-Secuencia\t| Codificador-decodificador|\tTipo BART/T5\t| Tareas generativas que requieren una entrada\t| Traducción de idiomas|\n",
    "\n",
    "\n",
    "<p></p>\n",
    "\n",
    "[https://github.com/christianversloot/machine-learning-articles](https://github.com/christianversloot/machine-learning-articles/blob/main/differences-between-autoregressive-autoencoding-and-sequence-to-sequence-models-in-machine-learning.md)\n",
    "\n"
   ]
  },
  {
   "cell_type": "markdown",
   "id": "1939aeee",
   "metadata": {
    "slideshow": {
     "slide_type": "slide"
    }
   },
   "source": [
    "<h2 align='center'>¿Necesito entrenar un nuevo modelo para resolver mi problema?</h2>\n",
    "\n",
    "**No. Entrenar un LLM es costoso (uso de GPU, tiempo, cálculo, datos). Por eso, compartir LLMs y sus componentes afinados se ha vuelto muy popular.**\n",
    "\n",
    "\n",
    "<p></p>\n",
    "<center>\n",
    "  <img src=\"diagrams/hftasks.png\" width=\"1200px\"/>\n",
    "\n",
    "</center>\n",
    "\n",
    "Puedes comenzar indicando a un LLM, luego afinando* si no estás obteniendo los resultados que deseas. Necesitarás curar un conjunto de datos para esto.\n",
    "\n",
    "*(ajuste de instrucciones o, por ejemplo, PEFT + LoRA)\n",
    "\n",
    "Fuente: https://huggingface.co/tasks"
   ]
  },
  {
   "cell_type": "markdown",
   "id": "f57ef893",
   "metadata": {
    "slideshow": {
     "slide_type": "slide"
    }
   },
   "source": [
    "<h1 align='center'>Prompting (Indicaciones)</h1>\n"
   ]
  },
  {
   "cell_type": "markdown",
   "id": "781c31ef",
   "metadata": {
    "slideshow": {
     "slide_type": "slide"
    }
   },
   "source": [
    "<h2 align='center'>Elementos clave de las indicaciones</h2>\n",
    "\n",
    "<h3 align='center'>Básico</h3>\n",
    "\n",
    "* Un LLM con el que interactuar\n",
    "* Temperatura\n",
    "* Tokens máximos\n",
    "* Una solicitud en lenguaje natural\n",
    "\n",
    "<h3 align='center'>Avanzado</h3>\n",
    "\n",
    "* Datos (archivos de texto, archivos web)\n",
    "* Un sistema de almacenamiento de base de datos (DB vectorial, SQL, PostgreSQL, etc)\n",
    "* Interfaces de usuario\n"
   ]
  },
  {
   "cell_type": "markdown",
   "id": "00c2b5e7",
   "metadata": {
    "slideshow": {
     "slide_type": "slide"
    }
   },
   "source": [
    "<h2 align='center'>Técnicas de indicación</h2>\n",
    "\n",
    "* Inferencia de cero disparos\n",
    "\n",
    "* Inferencia de un solo disparo\n",
    "\n",
    "* Inferencia de pocos disparos\n",
    "\n",
    "* Cadena de pensamiento\n",
    "\n",
    "* Roles (API de OpenAI)"
   ]
  },
  {
   "cell_type": "markdown",
   "id": "66c64015",
   "metadata": {
    "slideshow": {
     "slide_type": "slide"
    }
   },
   "source": [
    "<h2 align='center'>Indicaciones para LLMs privados (API de OpenAI)</h2>\n",
    "\n",
    "Vamos a centrarnos en la funcionalidad `ChatCompletion`.\n",
    "\n",
    "Elementos clave:\n",
    "\n",
    "* Clave de API de OpenAI\n",
    "* Modelo elegido (GPT4, GPT 3.5 Turbo, Text-Davinci)\n",
    "* Temperatura\n",
    "* Tu indicación\n"
   ]
  },
  {
   "cell_type": "markdown",
   "id": "175457fa",
   "metadata": {
    "slideshow": {
     "slide_type": "slide"
    }
   },
   "source": [
    "<h3 align='center'>Técnicas de indicación: Inferencia de cero disparos</h3>\n",
    "\n",
    "**Fórmula: instrucción, sin ejemplos.**\n",
    "\n",
    "Supongamos que queremos traducir una pregunta en lenguaje natural a SQL.\n",
    "\n",
    "```python\n",
    "prompt = f\"Responde a la pregunta {natural_question} \\\n",
    "           para la tabla {db_name} \\\n",
    "           con esquema {schema}\"\n",
    "```"
   ]
  },
  {
   "cell_type": "markdown",
   "id": "6ae5554f",
   "metadata": {
    "slideshow": {
     "slide_type": "slide"
    }
   },
   "source": [
    "<h3 align='center'>Técnicas de indicación: Inferencia de un solo disparo</h3>\n",
    "\n",
    "**Fórmula: instrucción, un ejemplo.**\n",
    "\n",
    "```python\n",
    "prompt = f\"Responde a la pregunta {natural_question} \\\n",
    "           para la tabla {db_name} \\\n",
    "           con esquema {schema}\\\n",
    "               Pregunta: ¿Cuántos registros hay?\\\n",
    "               Respuesta: SELECT COUNT(*) FROM bank\"\n",
    "```"
   ]
  },
  {
   "cell_type": "markdown",
   "id": "db916187",
   "metadata": {
    "slideshow": {
     "slide_type": "slide"
    }
   },
   "source": [
    "<h3 align='center'>Técnicas de indicación: Inferencia de pocos disparos</h3>\n",
    "\n",
    "**Fórmula: instrucción, más de un ejemplo.**\n",
    "\n",
    "```python\n",
    "prompt = f\"Responde a la pregunta {natural_question} \\\n",
    "           para la tabla {db_name} \\\n",
    "           con esquema {schema}\\\n",
    "           Pregunta: ¿Cuántos registros hay?\\\n",
    "           Respuesta: SELECT COUNT(*) FROM bank\\\n",
    "           Pregunta: Encuentra todos los empleados que están desempleados\\\n",
    "           Respuesta: SELECT * FROM bank WHERE job = 'unemployed'\"\n",
    "\n",
    "```"
   ]
  },
  {
   "cell_type": "markdown",
   "id": "6950ed4b",
   "metadata": {
    "slideshow": {
     "slide_type": "slide"
    }
   },
   "source": [
    "<h3 align='center'>Roles en la indicación del punto final de ChatCompletion (solo API de OpenAI)</h3>\n",
    "\n",
    "El 'rol' puede tomar uno de tres valores: system, user o el assistant\n",
    "\n",
    "`content` contiene el texto del mensaje del role.\n",
    "\n",
    "`system` Puedes usar una instrucción a nivel de sistema para guiar el comportamiento de tu modelo a lo largo de la conversación.\n",
    "\n",
    "`user` ¿Cuáles son las solicitudes típicas que alguien en ese rol recibiría?\n",
    "\n",
    "`assistant` Este rol representa al modelo de lenguaje, como ChatGPT, que genera respuestas basadas en los mensajes proporcionados por el usuario."
   ]
  },
  {
   "cell_type": "markdown",
   "id": "d98b0aca",
   "metadata": {
    "slideshow": {
     "slide_type": "slide"
    }
   },
   "source": [
    "<h2 align='center'>Problema empresarial: traducir preguntas en lenguaje natural a SQL</h2>\n",
    "\n",
    "Podemos resolver este problema con indicaciones y el punto final ChatCompletion en la API de OpenAI.\n",
    "\n",
    "**Enfoque: construir una clase Prompter y añadir cada técnica de indicación como un método, luego evaluar los resultados**"
   ]
  },
  {
   "cell_type": "markdown",
   "id": "b1b78bf3",
   "metadata": {
    "slideshow": {
     "slide_type": "slide"
    }
   },
   "source": [
    "<h3 align='center'>Enfoque: inicializar una clase Prompter</h3>\n",
    "\n",
    "```python\n",
    "import openai\n",
    "\n",
    "class Prompter:\n",
    "    def __init__(self, api_key, gpt_model, temperature=0.2):\n",
    "        if not api_key:\n",
    "            raise Exception(\"Please provide the OpenAI API key\")\n",
    "\n",
    "        self.api_key  = api_key\n",
    "        self.gpt_model = gpt_model\n",
    "        self.temperature = temperature\n",
    "    \n",
    "    \n",
    "```\n",
    "    "
   ]
  },
  {
   "cell_type": "markdown",
   "id": "cdda4f5d",
   "metadata": {
    "slideshow": {
     "slide_type": "slide"
    }
   },
   "source": [
    "<h3 align='center'>Enfoque: añadir un método de completado de chat para llamar a un modelo tipo GPT (API de OpenAI)</h3>\n",
    "\n",
    "<p></p>\n",
    "<center>\n",
    "  <img src=\"diagrams/init-chatcompletion.png\" width=\"1200px\"/>\n",
    "\n",
    "</center>"
   ]
  },
  {
   "cell_type": "markdown",
   "id": "64cef98f",
   "metadata": {
    "slideshow": {
     "slide_type": "slide"
    }
   },
   "source": [
    "<h3 align='center'>Enfoque: añadir un método con una indicación de un solo disparo y el rol de asistente</h3>\n",
    "\n",
    "<p></p>\n",
    "<center>\n",
    "  <img src=\"diagrams/prompt-roles-assistant.png\" width=\"1200px\"/>\n",
    "\n",
    "</center>\n"
   ]
  },
  {
   "cell_type": "markdown",
   "id": "a40f916e",
   "metadata": {
    "slideshow": {
     "slide_type": "slide"
    }
   },
   "source": [
    "<h3 align='center'>Enfoque: añadir un método con una indicación de un solo disparo y el rol de asistente</h3>\n",
    "\n",
    "<p></p>\n",
    "<center>\n",
    "  <img src=\"diagrams/prompt-roles-sql.png\" width=\"1200px\"/>\n",
    "\n",
    "</center>\n"
   ]
  },
  {
   "cell_type": "markdown",
   "id": "fde69af5",
   "metadata": {
    "slideshow": {
     "slide_type": "slide"
    }
   },
   "source": [
    "<h2 align='center'>Evaluar resultados</h2>\n",
    "\n",
    "Supongamos que tengo una instancia en memoria de DuckDB con una tabla llamada bank que se ve así."
   ]
  },
  {
   "cell_type": "code",
   "execution_count": 5,
   "id": "efa3d5a3",
   "metadata": {
    "slideshow": {
     "slide_type": "fragment"
    }
   },
   "outputs": [
    {
     "data": {
      "text/html": [
       "\n",
       "    <style>.sort-button {\n",
       "    background: none;\n",
       "    border: none;\n",
       "}\n",
       "\n",
       ".sort-button.selected {\n",
       "    background: #efefef;\n",
       "    border: 1px solid #767676;\n",
       "}\n",
       "\n",
       ".pages-buttons button.selected {\n",
       "    background: #efefef;\n",
       "    border: 1px solid #767676;\n",
       "    border-radius: 2px;\n",
       "}\n",
       ".pages-buttons button {\n",
       "    background: none;\n",
       "    border: none;\n",
       "    padding: 0 10px;\n",
       "}\n",
       ".jupysql-table-widget {\n",
       "    display: inline;\n",
       "}</style>\n",
       "    \n",
       "            <div id=\"tableContainer_1689379050\" class=\"table-container\"></div>\n",
       "            \n",
       "    <script>function isJupyterNotebook() {\n",
       "    return window[\"Jupyter\"];\n",
       "}\n",
       "\n",
       "function getTable(element) {\n",
       "    let table;\n",
       "    if (element) {\n",
       "        const tableContainer = element.closest(\".table-container\");\n",
       "        table = tableContainer.querySelector(\"table\");\n",
       "    } else {\n",
       "        const _isJupyterNotebook = isJupyterNotebook();\n",
       "        if (_isJupyterNotebook) {\n",
       "            table = document.querySelector(\".selected .table-container table\");\n",
       "        } else {\n",
       "            table = document.querySelector(\".jp-Cell.jp-mod-active .table-container table\");\n",
       "        }\n",
       "    }\n",
       "\n",
       "    return table;\n",
       "}\n",
       "\n",
       "function getSortDetails() {\n",
       "    let sort = undefined;\n",
       "\n",
       "    const table = getTable();\n",
       "    if (table) {\n",
       "        const column = table.getAttribute(\"sort-by-column\");\n",
       "        const order = table.getAttribute(\"sort-by-order\");\n",
       "\n",
       "        if (column && order) {\n",
       "            sort = {\n",
       "                \"column\" : column,\n",
       "                \"order\" : order\n",
       "            }\n",
       "        }\n",
       "    }\n",
       "\n",
       "    return sort;\n",
       "}\n",
       "\n",
       "function sortColumnClick(element, column, order, callback) {\n",
       "    // fetch data with sort logic\n",
       "    const table = getTable(element);\n",
       "    table.setAttribute(\"sort-by-column\", column);\n",
       "    table.setAttribute(\"sort-by-order\", order);\n",
       "    const rowsPerPage = table.getAttribute(\"rows-per-page\");\n",
       "    const currrPage = table.getAttribute(\"curr-page-idx\");\n",
       "\n",
       "    const sort = {\n",
       "        'column' : column,\n",
       "        'order' : order\n",
       "    }\n",
       "\n",
       "    const fetchParameters = {\n",
       "        rowsPerPage : parseInt(rowsPerPage),\n",
       "        page : parseInt(currrPage),\n",
       "        sort : sort,\n",
       "        table : table.getAttribute(\"table-name\")\n",
       "    }\n",
       "\n",
       "    fetchTableData(fetchParameters, callback)\n",
       "}\n",
       "\n",
       "function fetchTableData(fetchParameters, callback) {\n",
       "    \n",
       "    sendObject = {\n",
       "        'nRows' : fetchParameters.rowsPerPage,\n",
       "        'page': fetchParameters.page,\n",
       "        'table' : fetchParameters.table\n",
       "    }\n",
       "\n",
       "    if (fetchParameters.sort) {\n",
       "        sendObject.sort = fetchParameters.sort\n",
       "    }\n",
       "\n",
       "    const _isJupyterNotebook = isJupyterNotebook();\n",
       "\n",
       "\n",
       "    if (_isJupyterNotebook) {\n",
       "        // for Jupyter Notebook\n",
       "        const comm =\n",
       "        Jupyter.notebook.kernel.comm_manager.new_comm('comm_target_handle_table_widget', {})\n",
       "        comm.send(sendObject)\n",
       "        comm.on_msg(function(msg) {\n",
       "            const rows = JSON.parse(msg.content.data['rows']);\n",
       "            if (callback) {\n",
       "                callback(rows)\n",
       "            }\n",
       "        });\n",
       "    } else{\n",
       "        // for JupyterLab\n",
       "        dispatchEventToKernel(sendObject)\n",
       "\n",
       "        const controller = new AbortController();\n",
       "    \n",
       "        document.addEventListener('onTableWidgetRowsReady', (customEvent) => {\n",
       "            const rows = JSON.parse(customEvent.detail.data.rows)\n",
       "            controller.abort()\n",
       "            if (callback) {\n",
       "                callback(rows)\n",
       "            }\n",
       "        }, {signal: controller.signal})\n",
       "    }\n",
       "\n",
       "\n",
       "}\n",
       "\n",
       "\n",
       "function dispatchEventToKernel(data) {\n",
       "    let customEvent = new CustomEvent('onUpdateTableWidget', {\n",
       "    bubbles: true,\n",
       "    cancelable: true,\n",
       "    composed: false,\n",
       "    detail : {\n",
       "        data : data\n",
       "    }\n",
       "    });\n",
       "    document.body.dispatchEvent(customEvent)\n",
       "}         \n",
       "\n",
       "function handleRowsNumberOfRowsChange(e) {\n",
       "    const rowsPerPage = parseInt(e.value);\n",
       "    let table = getTable();\n",
       "    table.setAttribute('rows-per-page', rowsPerPage);\n",
       "\n",
       "    const nTotal = table.getAttribute('n-total');\n",
       "\n",
       "    const maxPages = Math.ceil(nTotal / rowsPerPage)\n",
       "    table.setAttribute('max-pages', maxPages);\n",
       "\n",
       "    const fetchParameters = {\n",
       "        rowsPerPage : rowsPerPage,\n",
       "        page : 0,\n",
       "        sort : getSortDetails(),\n",
       "        table : table.getAttribute(\"table-name\")\n",
       "    }\n",
       "\n",
       "    setTimeout(() => {\n",
       "        fetchTableData(fetchParameters, (rows) => {\n",
       "            updateTable(rows);\n",
       "        })\n",
       "    }, 100);\n",
       "}\n",
       "\n",
       "function updateTable(rows, currPage, tableToUpdate) {\n",
       "    const table = tableToUpdate || getTable();\n",
       "    const trs = table.querySelectorAll(\"tbody tr\");\n",
       "    const tbody = table.querySelector(\"tbody\");\n",
       "    tbody.innerHTML = \"\";\n",
       "\n",
       "    const _html = createTableRows(rows)\n",
       "\n",
       "    tbody.innerHTML = _html\n",
       "\n",
       "    setTimeout(() => {\n",
       "        updatePaginationBar(table, currPage || 0)\n",
       "    }, 100)\n",
       "}\n",
       "\n",
       "function createTableRows(rows) {\n",
       "    const _html = rows.map(function(row) {\n",
       "        const tds =\n",
       "        Object.keys(row).map(function(key) {\n",
       "\n",
       "            return \"<td>\" + row[key] + \"</td>\"\n",
       "        }).join(\"\") ;\n",
       "        return \"<tr>\" + tds + \"</tr>\";\n",
       "    }).join(\"\");\n",
       "\n",
       "    return _html\n",
       "}\n",
       "\n",
       "function showTablePage(page, rowsPerPage, data) {\n",
       "    const table = getTable();\n",
       "    const trs = table.querySelectorAll(\"tbody tr\");\n",
       "    const tbody = table.querySelector(\"tbody\");\n",
       "    tbody.innerHTML = \"\";\n",
       "\n",
       "    const rows = data;\n",
       "    const startIndex = page * rowsPerPage;\n",
       "    const endIndex = startIndex + rowsPerPage;\n",
       "    const _html = rows.map(row => {\n",
       "        const tds =\n",
       "        Object.keys(row).map(key => `<td>${row[key]}</td>`).join(\"\");\n",
       "        return `<tr>${tds}</tr>`;\n",
       "    }).join(\"\");\n",
       "\n",
       "    tbody.innerHTML = _html;\n",
       "\n",
       "    table.setAttribute(\"curr-page-idx\", page);\n",
       "    updatePaginationBar(table, page);\n",
       "}\n",
       "\n",
       "function nextPageClick(element) {\n",
       "    const table = getTable(element);\n",
       "    const currPageIndex = parseInt(table.getAttribute(\"curr-page-idx\"));\n",
       "    const rowsPerPage = parseInt(table.getAttribute(\"rows-per-page\"));\n",
       "    const maxPages = parseInt(table.getAttribute(\"max-pages\"));\n",
       "\n",
       "    const nextPage = currPageIndex + 1;\n",
       "    if (nextPage < maxPages) {\n",
       "        const fetchParameters = {\n",
       "            rowsPerPage : rowsPerPage,\n",
       "            page : nextPage,\n",
       "            sort : getSortDetails(),\n",
       "            table : table.getAttribute(\"table-name\")\n",
       "        }\n",
       "\n",
       "        fetchTableData(fetchParameters, (rows) => {\n",
       "            showTablePage(nextPage, rowsPerPage, rows)\n",
       "        });\n",
       "    }\n",
       "\n",
       "}\n",
       "\n",
       "function prevPageClick() {\n",
       "    const table = getTable();\n",
       "    const currPageIndex = parseInt(table.getAttribute(\"curr-page-idx\"));\n",
       "    const rowsPerPage = parseInt(table.getAttribute(\"rows-per-page\"));\n",
       "    const prevPage = currPageIndex - 1;\n",
       "    if (prevPage >= 0) {\n",
       "        const fetchParameters = {\n",
       "            rowsPerPage : rowsPerPage,\n",
       "            page : prevPage,\n",
       "            sort : getSortDetails(),\n",
       "            table : table.getAttribute(\"table-name\")\n",
       "        }\n",
       "\n",
       "        fetchTableData(fetchParameters, (rows) => {\n",
       "            showTablePage(prevPage, rowsPerPage, rows)\n",
       "        });\n",
       "    }\n",
       "}\n",
       "\n",
       "function setPageButton(table, label, navigateTo, isSelected) {\n",
       "    const rowsPerPage = parseInt(table.getAttribute(\"rows-per-page\"));\n",
       "    const selected = isSelected ? \"selected\" : \"\";\n",
       "\n",
       "    const button = `\n",
       "    <button class=\"${selected}\"\n",
       "            onclick=\"\n",
       "            fetchTableData({\n",
       "                rowsPerPage : ${rowsPerPage},\n",
       "                page : ${navigateTo},\n",
       "                sort : getSortDetails(),\n",
       "                table : getTable(this).getAttribute('table-name')\n",
       "            },\n",
       "            (rows) => {\n",
       "                showTablePage(${navigateTo}, ${rowsPerPage}, rows);\n",
       "                })\"\n",
       "    >\n",
       "        ${label}\n",
       "    </button>\n",
       "    `\n",
       "    return button;\n",
       "}\n",
       "\n",
       "function updatePaginationBar(table, currPage) {\n",
       "    const maxPages = parseInt(table.getAttribute(\"max-pages\"));\n",
       "    const maxPagesInRow = 6;\n",
       "    const rowsPerPage = parseInt(table.getAttribute(\"rows-per-page\"));\n",
       "    table.setAttribute(\"curr-page-idx\", currPage);\n",
       "\n",
       "    let buttonsArray = []\n",
       "\n",
       "    let startEllipsisAdded = false\n",
       "    let endEllipsisAdded = false\n",
       "\n",
       "    // add first\n",
       "    let selected = currPage === 0;\n",
       "    buttonsArray.push(setPageButton(table, \"1\", 0, selected));\n",
       "\n",
       "    for (i = 1; i < maxPages - 1; i++) {\n",
       "        const navigateTo = i;\n",
       "        const label = i + 1;\n",
       "        selected = currPage === i;\n",
       "        const inStartRange = currPage < maxPagesInRow;\n",
       "        const inEndRange = maxPages - 1 - currPage < maxPagesInRow;\n",
       "\n",
       "        if (inStartRange) {\n",
       "            if (i < maxPagesInRow) {\n",
       "                buttonsArray\n",
       "                .push(setPageButton(table, label, navigateTo, selected));\n",
       "            } else {\n",
       "            if (!startEllipsisAdded) {\n",
       "                buttonsArray.push(\"...\");\n",
       "                startEllipsisAdded = true;\n",
       "            }\n",
       "            }\n",
       "        } else if (inEndRange) {\n",
       "            if (maxPages - 1 - i < maxPagesInRow) {\n",
       "                buttonsArray\n",
       "                .push(setPageButton(table, label, navigateTo, selected));\n",
       "            } else {\n",
       "            if (!endEllipsisAdded) {\n",
       "                buttonsArray.push(\"...\");\n",
       "                endEllipsisAdded = true;\n",
       "            }\n",
       "            }\n",
       "        }\n",
       "\n",
       "        if (!inStartRange && !inEndRange) {\n",
       "            if (currPage === i-2) {\n",
       "                buttonsArray.push(\"...\");\n",
       "            }\n",
       "            if (\n",
       "                currPage === i - 1 ||\n",
       "                currPage === i ||\n",
       "                currPage === i + 1\n",
       "            ) {\n",
       "                buttonsArray\n",
       "                .push(setPageButton(table, label, navigateTo, selected))\n",
       "            }\n",
       "\n",
       "            if (currPage === i+2) {\n",
       "                buttonsArray.push(\"...\");\n",
       "            }\n",
       "\n",
       "        }\n",
       "    }\n",
       "\n",
       "    selected = currPage === maxPages - 1 ? \"selected\" : \"\";\n",
       "\n",
       "    buttonsArray.\n",
       "    push(setPageButton(table, maxPages, maxPages - 1, selected))\n",
       "\n",
       "    const buttonsHtml = buttonsArray.join(\"\");\n",
       "    table.parentNode\n",
       "    .querySelector(\".pages-buttons\").innerHTML = buttonsHtml;\n",
       "}\n",
       "\n",
       "function removeSelectionFromAllSortButtons() {\n",
       "    document.querySelectorAll(\".sort-button\")\n",
       "    .forEach(el => el.classList.remove(\"selected\"))\n",
       "}\n",
       "\n",
       "function initTable() {\n",
       "    // template variables we should pass\n",
       "    const initialRows = [\n",
       "    {\n",
       "        \"age\": 30,\n",
       "        \"balance\": 1787,\n",
       "        \"campaign\": 1,\n",
       "        \"contact\": \"cellular\",\n",
       "        \"day\": 19,\n",
       "        \"default\": \"no\",\n",
       "        \"duration\": 79,\n",
       "        \"education\": \"primary\",\n",
       "        \"housing\": \"no\",\n",
       "        \"job\": \"unemployed\",\n",
       "        \"loan\": \"no\",\n",
       "        \"marital\": \"married\",\n",
       "        \"month\": \"oct\",\n",
       "        \"pdays\": -1,\n",
       "        \"poutcome\": \"unknown\",\n",
       "        \"previous\": 0,\n",
       "        \"y\": \"no\"\n",
       "    },\n",
       "    {\n",
       "        \"age\": 33,\n",
       "        \"balance\": 4789,\n",
       "        \"campaign\": 1,\n",
       "        \"contact\": \"cellular\",\n",
       "        \"day\": 11,\n",
       "        \"default\": \"no\",\n",
       "        \"duration\": 220,\n",
       "        \"education\": \"secondary\",\n",
       "        \"housing\": \"yes\",\n",
       "        \"job\": \"services\",\n",
       "        \"loan\": \"yes\",\n",
       "        \"marital\": \"married\",\n",
       "        \"month\": \"may\",\n",
       "        \"pdays\": 339,\n",
       "        \"poutcome\": \"failure\",\n",
       "        \"previous\": 4,\n",
       "        \"y\": \"no\"\n",
       "    },\n",
       "    {\n",
       "        \"age\": 35,\n",
       "        \"balance\": 1350,\n",
       "        \"campaign\": 1,\n",
       "        \"contact\": \"cellular\",\n",
       "        \"day\": 16,\n",
       "        \"default\": \"no\",\n",
       "        \"duration\": 185,\n",
       "        \"education\": \"tertiary\",\n",
       "        \"housing\": \"yes\",\n",
       "        \"job\": \"management\",\n",
       "        \"loan\": \"no\",\n",
       "        \"marital\": \"single\",\n",
       "        \"month\": \"apr\",\n",
       "        \"pdays\": 330,\n",
       "        \"poutcome\": \"failure\",\n",
       "        \"previous\": 1,\n",
       "        \"y\": \"no\"\n",
       "    },\n",
       "    {\n",
       "        \"age\": 30,\n",
       "        \"balance\": 1476,\n",
       "        \"campaign\": 4,\n",
       "        \"contact\": \"unknown\",\n",
       "        \"day\": 3,\n",
       "        \"default\": \"no\",\n",
       "        \"duration\": 199,\n",
       "        \"education\": \"tertiary\",\n",
       "        \"housing\": \"yes\",\n",
       "        \"job\": \"management\",\n",
       "        \"loan\": \"yes\",\n",
       "        \"marital\": \"married\",\n",
       "        \"month\": \"jun\",\n",
       "        \"pdays\": -1,\n",
       "        \"poutcome\": \"unknown\",\n",
       "        \"previous\": 0,\n",
       "        \"y\": \"no\"\n",
       "    },\n",
       "    {\n",
       "        \"age\": 59,\n",
       "        \"balance\": 0,\n",
       "        \"campaign\": 1,\n",
       "        \"contact\": \"unknown\",\n",
       "        \"day\": 5,\n",
       "        \"default\": \"no\",\n",
       "        \"duration\": 226,\n",
       "        \"education\": \"secondary\",\n",
       "        \"housing\": \"yes\",\n",
       "        \"job\": \"blue-collar\",\n",
       "        \"loan\": \"no\",\n",
       "        \"marital\": \"married\",\n",
       "        \"month\": \"may\",\n",
       "        \"pdays\": -1,\n",
       "        \"poutcome\": \"unknown\",\n",
       "        \"previous\": 0,\n",
       "        \"y\": \"no\"\n",
       "    },\n",
       "    {\n",
       "        \"age\": 35,\n",
       "        \"balance\": 747,\n",
       "        \"campaign\": 2,\n",
       "        \"contact\": \"cellular\",\n",
       "        \"day\": 23,\n",
       "        \"default\": \"no\",\n",
       "        \"duration\": 141,\n",
       "        \"education\": \"tertiary\",\n",
       "        \"housing\": \"no\",\n",
       "        \"job\": \"management\",\n",
       "        \"loan\": \"no\",\n",
       "        \"marital\": \"single\",\n",
       "        \"month\": \"feb\",\n",
       "        \"pdays\": 176,\n",
       "        \"poutcome\": \"failure\",\n",
       "        \"previous\": 3,\n",
       "        \"y\": \"no\"\n",
       "    },\n",
       "    {\n",
       "        \"age\": 36,\n",
       "        \"balance\": 307,\n",
       "        \"campaign\": 1,\n",
       "        \"contact\": \"cellular\",\n",
       "        \"day\": 14,\n",
       "        \"default\": \"no\",\n",
       "        \"duration\": 341,\n",
       "        \"education\": \"tertiary\",\n",
       "        \"housing\": \"yes\",\n",
       "        \"job\": \"self-employed\",\n",
       "        \"loan\": \"no\",\n",
       "        \"marital\": \"married\",\n",
       "        \"month\": \"may\",\n",
       "        \"pdays\": 330,\n",
       "        \"poutcome\": \"other\",\n",
       "        \"previous\": 2,\n",
       "        \"y\": \"no\"\n",
       "    },\n",
       "    {\n",
       "        \"age\": 39,\n",
       "        \"balance\": 147,\n",
       "        \"campaign\": 2,\n",
       "        \"contact\": \"cellular\",\n",
       "        \"day\": 6,\n",
       "        \"default\": \"no\",\n",
       "        \"duration\": 151,\n",
       "        \"education\": \"secondary\",\n",
       "        \"housing\": \"yes\",\n",
       "        \"job\": \"technician\",\n",
       "        \"loan\": \"no\",\n",
       "        \"marital\": \"married\",\n",
       "        \"month\": \"may\",\n",
       "        \"pdays\": -1,\n",
       "        \"poutcome\": \"unknown\",\n",
       "        \"previous\": 0,\n",
       "        \"y\": \"no\"\n",
       "    },\n",
       "    {\n",
       "        \"age\": 41,\n",
       "        \"balance\": 221,\n",
       "        \"campaign\": 2,\n",
       "        \"contact\": \"unknown\",\n",
       "        \"day\": 14,\n",
       "        \"default\": \"no\",\n",
       "        \"duration\": 57,\n",
       "        \"education\": \"tertiary\",\n",
       "        \"housing\": \"yes\",\n",
       "        \"job\": \"entrepreneur\",\n",
       "        \"loan\": \"no\",\n",
       "        \"marital\": \"married\",\n",
       "        \"month\": \"may\",\n",
       "        \"pdays\": -1,\n",
       "        \"poutcome\": \"unknown\",\n",
       "        \"previous\": 0,\n",
       "        \"y\": \"no\"\n",
       "    },\n",
       "    {\n",
       "        \"age\": 43,\n",
       "        \"balance\": -88,\n",
       "        \"campaign\": 1,\n",
       "        \"contact\": \"cellular\",\n",
       "        \"day\": 17,\n",
       "        \"default\": \"no\",\n",
       "        \"duration\": 313,\n",
       "        \"education\": \"primary\",\n",
       "        \"housing\": \"yes\",\n",
       "        \"job\": \"services\",\n",
       "        \"loan\": \"yes\",\n",
       "        \"marital\": \"married\",\n",
       "        \"month\": \"apr\",\n",
       "        \"pdays\": 147,\n",
       "        \"poutcome\": \"failure\",\n",
       "        \"previous\": 2,\n",
       "        \"y\": \"no\"\n",
       "    }\n",
       "];\n",
       "    const columns = ['age', 'job', 'marital', 'education', 'default', 'balance', 'housing', 'loan', 'contact', 'day', 'month', 'duration', 'campaign', 'pdays', 'previous', 'poutcome', 'y'];\n",
       "    const rowsPerPage=10;\n",
       "    const nPages=453;\n",
       "    const nTotal=4521;\n",
       "    const tableName=\"bank\";\n",
       "    const tableContainerId = \"tableContainer_1689379050\";\n",
       "    const options = [10, 25, 50, 100];\n",
       "    options_html =\n",
       "    options.map(option => `<option value=${option}>${option}</option>`);\n",
       "\n",
       "\n",
       "    let ths_ = columns.map(col => `<th>${col}</th>`).join(\"\");\n",
       "\n",
       "    let table = `\n",
       "    <div>\n",
       "        <span style=\"margin-right: 5px\">Show</span>\n",
       "        <select\n",
       "        onchange=\"handleRowsNumberOfRowsChange(this)\">\n",
       "            ${options_html}\n",
       "        </select>\n",
       "        <span style=\"margin-left: 5px\">entries</span>\n",
       "    </div>\n",
       "\n",
       "    <table\n",
       "        class=\"jupysql-table-widget\"\n",
       "        style='width:100%'\n",
       "        curr-page-idx=0\n",
       "        rows-per-page=${rowsPerPage}\n",
       "        max-pages = ${nPages}\n",
       "        n-total=${nTotal}\n",
       "        table-name=${tableName}\n",
       "    >\n",
       "        <thead>\n",
       "            <tr>\n",
       "                ${ths_}\n",
       "            </tr>\n",
       "        </thead>\n",
       "\n",
       "        <tbody>\n",
       "        </tbody>\n",
       "    </table>\n",
       "\n",
       "\n",
       "    <div style=\"padding-bottom: 20px;\">\n",
       "        <button onclick=\"prevPageClick(this)\">Previous</button>\n",
       "        <div\n",
       "            id = \"pagesButtons\"\n",
       "            class = \"pages-buttons\"\n",
       "            style = \"display: inline-flex\">\n",
       "        </div>\n",
       "        <button onclick=\"nextPageClick(this)\">Next</button>\n",
       "    </div>\n",
       "    `\n",
       "\n",
       "    let tableContainer = document.querySelector(`#${tableContainerId}`);\n",
       "\n",
       "    tableContainer.innerHTML = table\n",
       "\n",
       "    if (initialRows) {\n",
       "        initializeTableRows(tableContainer, rowsPerPage, initialRows)\n",
       "\n",
       "    } else {\n",
       "        setTimeout(() => {\n",
       "            const fetchParameters = {\n",
       "                rowsPerPage : rowsPerPage,\n",
       "                page : 0,\n",
       "                sort : getSortDetails(),\n",
       "                table : tableName\n",
       "            }\n",
       "\n",
       "            fetchTableData(fetchParameters, (rows) => {\n",
       "                initializeTableRows(tableContainer, rowsPerPage, rows)\n",
       "            })\n",
       "        }, 100);\n",
       "    }\n",
       "    \n",
       "}\n",
       "\n",
       "function initializeTableRows(tableContainer, rowsPerPage, rows) {\n",
       "    updateTable(rows, 0,\n",
       "        tableContainer.querySelector(\"table\"));\n",
       "    // update ths_ to make sure order columns\n",
       "    // are matching the data\n",
       "    if (rows.length > 0) {\n",
       "        let row = rows[0];\n",
       "        let ths_ =\n",
       "        Object.keys(row).map(col =>\n",
       "        `<th>\n",
       "            <div style=\"display: inline-flex; height: 40px\">\n",
       "                <span style=\"line-height: 40px\">${col}</span>\n",
       "                <span style=\"width: 40px;\">\n",
       "                    <button\n",
       "                        class = \"sort-button\"\n",
       "                        onclick='sortColumnClick(this,\n",
       "                        \"${col}\", \"ASC\",\n",
       "                        (rows) => {\n",
       "                            const table = getTable(this);\n",
       "                            const currPage =\n",
       "                            parseInt(table.getAttribute(\"curr-page-idx\"));\n",
       "                            updateTable(rows, currPage);\n",
       "                            removeSelectionFromAllSortButtons()\n",
       "                            this.className += \" selected\"\n",
       "                            }\n",
       "                        )'\n",
       "                        title=\"Sort\"\n",
       "                        >▴\n",
       "                    </button>\n",
       "                    <button\n",
       "                        class = \"sort-button\"\n",
       "                        onclick='sortColumnClick(this,\n",
       "                        \"${col}\", \"DESC\",\n",
       "                        (rows) => {\n",
       "                            const table = getTable(this);\n",
       "                            const currPage = parseInt(\n",
       "                                table.getAttribute(\"curr-page-idx\"));\n",
       "                            updateTable(rows, currPage);\n",
       "                            removeSelectionFromAllSortButtons()\n",
       "                            this.className += \" selected\"\n",
       "                            }\n",
       "                        )'\n",
       "                        title=\"Sort\"\n",
       "                        >▾\n",
       "                    </button>\n",
       "                </span>\n",
       "            </div>\n",
       "\n",
       "            </th>`).join(\"\");\n",
       "        let thead = tableContainer.querySelector(\"thead\")\n",
       "        thead.innerHTML = ths_\n",
       "    }\n",
       "}\n",
       "\n",
       "initTable()</script>\n",
       "    "
      ],
      "text/plain": [
       "<sql.widgets.table_widget.table_widget.TableWidget at 0x7fe126547a00>"
      ]
     },
     "metadata": {},
     "output_type": "display_data"
    }
   ],
   "source": [
    "%sqlcmd explore --table bank"
   ]
  },
  {
   "cell_type": "markdown",
   "id": "197e3d9f",
   "metadata": {
    "slideshow": {
     "slide_type": "slide"
    }
   },
   "source": [
    "<h2 align='center'>Evaluar resultados</h2>\n",
    "\n",
    "Probemos las diferentes técnicas de indicación.\n",
    "\n",
    "Le pediremos al modelo GPT-3.5-turbo de la API de OpenAI que traduzca una pregunta en lenguaje natural a SQL."
   ]
  },
  {
   "cell_type": "code",
   "execution_count": 6,
   "id": "ad4cc297",
   "metadata": {
    "slideshow": {
     "slide_type": "fragment"
    }
   },
   "outputs": [],
   "source": [
    "pm  = Prompter(open_ai_key, \"gpt-3.5-turbo\")"
   ]
  },
  {
   "cell_type": "markdown",
   "id": "420334b0",
   "metadata": {
    "slideshow": {
     "slide_type": "slide"
    }
   },
   "source": [
    "Zero-shot results."
   ]
  },
  {
   "cell_type": "code",
   "execution_count": 16,
   "id": "3eb2e073",
   "metadata": {
    "slideshow": {
     "slide_type": "fragment"
    }
   },
   "outputs": [
    {
     "data": {
      "text/plain": [
       "\"To determine the number of unique jobs in the table, we need to analyze the 'job' column. However, without the actual data in the table, it is not possible to provide an exact answer.\""
      ]
     },
     "execution_count": 16,
     "metadata": {},
     "output_type": "execute_result"
    }
   ],
   "source": [
    "pm.natural_language_zero_shot(\"bank\", \n",
    "                              column_names, \n",
    "                              \"How many unique jobs are there?\")"
   ]
  },
  {
   "cell_type": "code",
   "execution_count": 15,
   "id": "988f4107",
   "metadata": {
    "slideshow": {
     "slide_type": "fragment"
    }
   },
   "outputs": [
    {
     "data": {
      "text/plain": [
       "\"Sorry, but I can't provide the answer you're looking for.\""
      ]
     },
     "execution_count": 15,
     "metadata": {},
     "output_type": "execute_result"
    }
   ],
   "source": [
    "pm.natural_language_zero_shot(\"bank\", \n",
    "                              column_names, \n",
    "                              \"What is the total balance for \\\n",
    "                               employees by education?\")"
   ]
  },
  {
   "cell_type": "markdown",
   "id": "84781b46",
   "metadata": {
    "slideshow": {
     "slide_type": "slide"
    }
   },
   "source": [
    "Resultados de un solo disparo."
   ]
  },
  {
   "cell_type": "code",
   "execution_count": 9,
   "id": "f018d103",
   "metadata": {
    "slideshow": {
     "slide_type": "fragment"
    }
   },
   "outputs": [
    {
     "data": {
      "text/plain": [
       "'There are 45211 records in the bank table.'"
      ]
     },
     "execution_count": 9,
     "metadata": {},
     "output_type": "execute_result"
    }
   ],
   "source": [
    "pm.natural_language_single_shot(\"bank\", \n",
    "                                column_names, \n",
    "                                \"How many unique jobs are there?\")"
   ]
  },
  {
   "cell_type": "code",
   "execution_count": 10,
   "id": "742c7c68",
   "metadata": {
    "slideshow": {
     "slide_type": "fragment"
    }
   },
   "outputs": [
    {
     "data": {
      "text/plain": [
       "'There are 45211 records in the bank table.'"
      ]
     },
     "execution_count": 10,
     "metadata": {},
     "output_type": "execute_result"
    }
   ],
   "source": [
    "pm.natural_language_single_shot(\"bank\", \n",
    "                                column_names, \n",
    "                                \"What is the total balance for \\\n",
    "                                employees by education?\")"
   ]
  },
  {
   "cell_type": "markdown",
   "id": "8742bab4",
   "metadata": {
    "slideshow": {
     "slide_type": "slide"
    }
   },
   "source": [
    "Resultados basados en roles."
   ]
  },
  {
   "cell_type": "code",
   "execution_count": 11,
   "id": "079af235",
   "metadata": {
    "slideshow": {
     "slide_type": "fragment"
    }
   },
   "outputs": [
    {
     "data": {
      "text/plain": [
       "'SELECT COUNT(DISTINCT job) FROM bank'"
      ]
     },
     "execution_count": 11,
     "metadata": {},
     "output_type": "execute_result"
    }
   ],
   "source": [
    "pm.natural_language_with_roles(\"bank\", \n",
    "                               column_names, \n",
    "                               \"How many unique jobs are there?\")"
   ]
  },
  {
   "cell_type": "code",
   "execution_count": 12,
   "id": "faa8821c",
   "metadata": {
    "slideshow": {
     "slide_type": "fragment"
    }
   },
   "outputs": [
    {
     "data": {
      "text/plain": [
       "'SELECT education, SUM(balance) AS total_balance\\nFROM bank\\nGROUP BY education'"
      ]
     },
     "execution_count": 12,
     "metadata": {},
     "output_type": "execute_result"
    }
   ],
   "source": [
    "pm.natural_language_with_roles(\"bank\", \n",
    "                               column_names, \n",
    "                               \"What is the total balance for\\\n",
    "                               employees by education?\")"
   ]
  },
  {
   "cell_type": "code",
   "execution_count": 13,
   "id": "3b2aace6",
   "metadata": {
    "slideshow": {
     "slide_type": "fragment"
    }
   },
   "outputs": [
    {
     "data": {
      "text/html": [
       "<span style=\"None\">Running query in &#x27;duckdb:///banco.duck.db&#x27;</span>"
      ],
      "text/plain": [
       "Running query in 'duckdb:///banco.duck.db'"
      ]
     },
     "metadata": {},
     "output_type": "display_data"
    },
    {
     "data": {
      "text/html": [
       "<table>\n",
       "    <thead>\n",
       "        <tr>\n",
       "            <th>education</th>\n",
       "            <th>total_balance</th>\n",
       "        </tr>\n",
       "    </thead>\n",
       "    <tbody>\n",
       "        <tr>\n",
       "            <td>primary</td>\n",
       "            <td>957027</td>\n",
       "        </tr>\n",
       "        <tr>\n",
       "            <td>secondary</td>\n",
       "            <td>2759854</td>\n",
       "        </tr>\n",
       "        <tr>\n",
       "            <td>tertiary</td>\n",
       "            <td>2396822</td>\n",
       "        </tr>\n",
       "        <tr>\n",
       "            <td>unknown</td>\n",
       "            <td>318133</td>\n",
       "        </tr>\n",
       "    </tbody>\n",
       "</table>"
      ],
      "text/plain": [
       "+-----------+---------------+\n",
       "| education | total_balance |\n",
       "+-----------+---------------+\n",
       "|  primary  |     957027    |\n",
       "| secondary |    2759854    |\n",
       "|  tertiary |    2396822    |\n",
       "|  unknown  |     318133    |\n",
       "+-----------+---------------+"
      ]
     },
     "execution_count": 13,
     "metadata": {},
     "output_type": "execute_result"
    }
   ],
   "source": [
    "%%sql\n",
    "SELECT education, SUM(balance) AS total_balance \n",
    "FROM bank GROUP BY education;"
   ]
  },
  {
   "cell_type": "markdown",
   "id": "3ab5666a",
   "metadata": {
    "slideshow": {
     "slide_type": "slide"
    }
   },
   "source": [
    "<h3 align='center'>Prompting/Indicaciones para LLMs de código abierto a través de HuggingFace</h3>\n",
    "\n",
    "Necesitas asegurarte de instalar los módulos correctos a través de pip junto con cualquier módulo especificado en la tarjeta del modelo del LLM.\n",
    "\n",
    "<p></p>\n",
    "<center>\n",
    "  <img src=\"diagrams/hftasks.png\" width=\"800px\"/>\n",
    "\n",
    "</center>\n",
    "\n",
    "\n",
    "Ejemplo: https://huggingface.co/microsoft/tapex-base"
   ]
  },
  {
   "cell_type": "markdown",
   "id": "b3868107",
   "metadata": {
    "slideshow": {
     "slide_type": "slide"
    }
   },
   "source": [
    "<h3 align='center'>La realidad de prompting en modelos de código abierto</h3>\n",
    "\n",
    "\n",
    "<p></p>\n",
    "<center>\n",
    "  <img src=\"diagrams/this-is-fine.jpeg\" width=\"600px\"/>\n",
    "\n",
    "</center>\n"
   ]
  },
  {
   "cell_type": "markdown",
   "id": "b65aa906",
   "metadata": {
    "slideshow": {
     "slide_type": "slide"
    }
   },
   "source": [
    "<h3 align='center'>La realidad de las indicaciones en modelos de código abierto</h3>\n",
    "\n",
    "* Los modelos alojados en HuggingFace se asemejan a repositorios de GitHub (pero no de una buena manera).\n",
    "* Necesitarás sentirte cómodo usando las bibliotecas transformers, PyTorch y TensorFlow.\n",
    "* Necesitarás algo más que solo comodidad con las arquitecturas de transformadores.\n",
    "* Infierno de dependencias.\n",
    "* Los resultados de las indicaciones varían entre diferentes modelos.\n",
    "* La documentación del modelo varía desde inexistente hasta altamente técnica (artículos de investigación).\n",
    "* Mayor probabilidad de que necesites encontrar el modelo base y afinarlo con tus datos para obtener mejores resultados.\n"
   ]
  },
  {
   "cell_type": "markdown",
   "id": "f0339ba2",
   "metadata": {
    "slideshow": {
     "slide_type": "slide"
    }
   },
   "source": [
    "<h3 align='center'>Indicando a un modelo tipo T5 para traducir NL a SQL</h3>\n",
    "\n",
    "Exploraremos la funcionalidad del modelo afinado tipo T5 `mrm8488/t5-base-finetuned-wikiSQL.`\n",
    "\n",
    "Recuerda que los modelos tipo T5 son de tipo codificador-decodificador y son buenos para traducir entre idiomas.\n",
    "\n",
    "Este modelo fue afinado en el conjunto de datos wiki-SQL."
   ]
  },
  {
   "cell_type": "markdown",
   "id": "63c0a676",
   "metadata": {
    "slideshow": {
     "slide_type": "slide"
    }
   },
   "source": [
    "\n",
    "```python\n",
    "from transformers import AutoModelWithLMHead, AutoTokenizer\n",
    "\n",
    "tokenizer = AutoTokenizer.from_pretrained(\"mrm8488/t5-base-finetuned-wikiSQL\")\n",
    "model = AutoModelWithLMHead.from_pretrained(\"mrm8488/t5-base-finetuned-wikiSQL\")\n",
    "```"
   ]
  },
  {
   "cell_type": "code",
   "execution_count": null,
   "id": "cd8bedc4",
   "metadata": {
    "slideshow": {
     "slide_type": "skip"
    }
   },
   "outputs": [],
   "source": [
    "from transformers import AutoModelWithLMHead, AutoTokenizer\n",
    "\n",
    "tokenizer = AutoTokenizer.from_pretrained(\"mrm8488/t5-base-finetuned-wikiSQL\")\n",
    "model = AutoModelWithLMHead.from_pretrained(\"mrm8488/t5-base-finetuned-wikiSQL\")"
   ]
  },
  {
   "cell_type": "code",
   "execution_count": null,
   "id": "1b84aeff",
   "metadata": {
    "slideshow": {
     "slide_type": "slide"
    }
   },
   "outputs": [],
   "source": [
    "def get_sql(query):\n",
    "    input_text = \"translate English to SQL: %s </s>\" % query\n",
    "    features = tokenizer([input_text], \n",
    "                         return_tensors='pt')\n",
    "\n",
    "    output = model.generate(input_ids=features['input_ids'], \n",
    "                           attention_mask=features['attention_mask'],\n",
    "                            max_new_tokens=200)\n",
    "\n",
    "    return tokenizer.decode(output[0])\n",
    "\n",
    "# Translate\n",
    "natural_question = \"How many entries are there?\" \n",
    "db_name = \"banks\"\n",
    "schema = column_names\n",
    "\n",
    "prompt = f\"{natural_question} \\\n",
    "           for table {db_name} \\\n",
    "           with schema {schema}\"\n",
    "\n",
    "get_sql(prompt)"
   ]
  },
  {
   "cell_type": "markdown",
   "id": "35de1ce9",
   "metadata": {
    "slideshow": {
     "slide_type": "slide"
    }
   },
   "source": [
    "<h3 align='center'>Cómo guiar tus elecciones</h3>\n",
    "\n",
    "1. Recuerda tu caso de uso, las restricciones empresariales y quién usará tu aplicación\n",
    "2. Recuerda los tres modelos base y sus palabras clave\n",
    "3. Prepárate para la posibilidad de afinar\n",
    "\n",
    "<p> </p>\n",
    "\n",
    "|Tipo de Transformador\t| Arquitectura\t| Modelo similar\t| Enfoque\t|Ejemplo|\n",
    "|-|-|-|-|-|\n",
    "| Auto-regresivo\t| Solo decodificador\t| Tipo GPT\t| Tareas generativas\t|Chat bot |\n",
    "| Auto-codificación\t| Solo codificador\t| Tipo BERT\t| Comprensión de la entrada\tde datos| Respuesta a preguntas|\n",
    "| Secuencia-a-Secuencia\t| Codificador-decodificador|\tTipo BART/T5\t| Tareas generativas que requieren una entrada\t| Traducción de idiomas|\n"
   ]
  },
  {
   "cell_type": "markdown",
   "id": "121dcfb7",
   "metadata": {
    "slideshow": {
     "slide_type": "slide"
    }
   },
   "source": [
    "<h1 align='center'>Parte II: Agentes y marcos de trabajo de código abierto</h1>\n",
    "\n",
    "Ahora dirigiremos nuestra atención a dos marcos de trabajo de código abierto que puedes utilizar para aumentar la funcionalidad de las indicaciones a través de agentes: LangChain y Haystack.\n",
    "\n",
    "\n",
    "Los marcos de trabajo presentados aquí pueden ser instalados vía pip e importados como módulos en tu script de Python."
   ]
  },
  {
   "cell_type": "markdown",
   "id": "a15f27d8",
   "metadata": {
    "slideshow": {
     "slide_type": "slide"
    }
   },
   "source": [
    "\n",
    "<h2 align='center'>¿Qué son los agentes?</h2>\n",
    "\n",
    "El papel de un agente es empoderar a los LLMs para decidir qué acciones tomar, otorgándoles un cierto grado de autonomía. En términos simples, los agentes son una fusión de cadenas de LLMs (que son secuencias de LLMs) y herramientas."
   ]
  },
  {
   "cell_type": "markdown",
   "id": "021b7b0b",
   "metadata": {
    "slideshow": {
     "slide_type": "slide"
    }
   },
   "source": [
    "<h2 align='center'>Introduciendo LangChain</h2>\n",
    "\n",
    "<center>\n",
    "  <img src=\"diagrams/langchain.png\" width=\"300px\"/>\n",
    "</center>\n",
    "\n",
    "LangChain es un marco de trabajo para desarrollar aplicaciones impulsadas por modelos de lenguaje. Permite aplicaciones que son:\n",
    "\n",
    "* Conscientes de los datos: conecta un modelo de lenguaje con otras fuentes de datos\n",
    "\n",
    "* Agentes: permite a un modelo de lenguaje interactuar con su entorno"
   ]
  },
  {
   "cell_type": "markdown",
   "id": "09d5624e",
   "metadata": {
    "slideshow": {
     "slide_type": "slide"
    }
   },
   "source": [
    "<h2 align='center'>¿Cómo aborda LangChain los Agentes?</h2>\n",
    "\n",
    "<p> </p>\n",
    "\n",
    "<center>\n",
    "  <img src=\"diagrams/langchain.jpg\" width=\"1200px\"/>\n",
    "\n",
    "</center>\n",
    "\n",
    "Con `LangChain` pensamos en términos de **componentes** y **cadenas listas para usar**.\n"
   ]
  },
  {
   "cell_type": "markdown",
   "id": "283a276a",
   "metadata": {
    "slideshow": {
     "slide_type": "slide"
    }
   },
   "source": [
    "<h2 align='center'>Cómo incorporarlo en tus scripts</h2>\n",
    "\n",
    "Puedes construir tus funciones personalizadas en Python y utilizar su decorador @tool. Luego de inicializar LangChain junto con el modelo GPT que quieras, puedes pedirle que realice tareas con comandos de lenguaje natural.\n",
    "\n",
    "**Es hora de un mini-demo.**\n",
    "\n",
    "Herramientas que se le dieron al agente:\n",
    "\n",
    "1. Un rastreador web\n",
    "2. Un indicador basado en GPT con contenido de system y user\n",
    "3. Instrucciones para resumir la página web y luego escribir una publicación en redes sociales sobre el resumen"
   ]
  },
  {
   "cell_type": "markdown",
   "id": "05d9284a",
   "metadata": {
    "slideshow": {
     "slide_type": "slide"
    }
   },
   "source": [
    "<h2 align='center'>Introduciendo Haystack</h2>\n",
    "\n",
    "<center>\n",
    "  <img src=\"diagrams/haystack-ogimage.png\" width=\"500px\"/>\n",
    "</center>\n",
    "\n",
    "Haystack es un marco de trabajo de código abierto para construir sistemas de búsqueda que funcionan de manera inteligente sobre grandes colecciones de documentos.\n"
   ]
  },
  {
   "cell_type": "markdown",
   "id": "dfa31768",
   "metadata": {
    "slideshow": {
     "slide_type": "slide"
    }
   },
   "source": [
    "Funcionalidad:\n",
    "\n",
    "* Llama a modelos de código abierto, modelos alojados (Azure, AWS) así como privados (API de OpenAI)\n",
    "* Construye pipelines de NLP listos para producción con sus herramientas personalizadas\n",
    "* Maquinaria para el procesamiento de datos no estructurados (texto)\n",
    "* Aprovecha sus plantillas de indicaciones ([prompt-hub](https://prompthub.deepset.ai/))\n",
    "* Incorpora Agentes\n",
    "* Compatibilidad con Vector y DB clásica.\n",
    "* Lanza a produccion vía REST API"
   ]
  },
  {
   "cell_type": "markdown",
   "id": "dd2916f9",
   "metadata": {
    "slideshow": {
     "slide_type": "slide"
    }
   },
   "source": [
    "<h2 align='center'>¿Cómo aborda Haystack los Agentes?</h2>\n",
    "\n",
    "**Nodos:** cada Nodo logra una cosa\n",
    "\n",
    "**Pipelines:** esta es la estructura estándar de Haystack que puede conectarse a tus datos y realizar en ellos tareas de NLP que tú defines.\n",
    "\n",
    "**Herramientas:** puedes pensar en una Herramienta como un experto, que es capaz de hacer algo realmente bien.\n",
    "\n",
    "**Agente:** un componente que está impulsado por un LLM, como GPT-3. Puede utilizar herramientas y decidir el próximo mejor curso de acción para llegar al resultado de una consulta."
   ]
  },
  {
   "cell_type": "markdown",
   "id": "ac5136c6",
   "metadata": {
    "slideshow": {
     "slide_type": "slide"
    }
   },
   "source": [
    "<h2 align='center'>Creando un nodo personalizado para realizar consultas SQL en Jupyter</h2>\n",
    "\n",
    "Vamos a utilizar ``JupySQL`` para realizar las consultas.\n",
    "\n",
    "``JupySQL`` se desarrolló sobre iPython-SQL y su propósito es conectarse a BDs de varios tipos y ejecutar queries en Jupyter.\n",
    "\n",
    "Esta será nuestra herramienta: ``JupySQLQuery`` y la definiremos como una subclase de la clase `BaseComponent` en Haystack.\n",
    "\n",
    "También crearemos una indicación con instrucciones detalladas sobre cómo debe responder el agente a diferentes situaciones."
   ]
  },
  {
   "cell_type": "markdown",
   "id": "c8e97a2e",
   "metadata": {
    "slideshow": {
     "slide_type": "slide"
    }
   },
   "source": [
    "\n",
    "\n",
    "\n",
    "  <img src=\"diagrams/JupySQL-agent.png\" width=\"500px\"/>\n"
   ]
  },
  {
   "cell_type": "code",
   "execution_count": null,
   "id": "ba05f565",
   "metadata": {
    "slideshow": {
     "slide_type": "skip"
    }
   },
   "outputs": [],
   "source": [
    "from haystack.nodes.base import BaseComponent\n",
    "\n",
    "class JupySQLQuery(BaseComponent):\n",
    "    outgoing_edges = 1\n",
    "    \n",
    "    def __init__(self):\n",
    "        %reload_ext sql\n",
    "        %sql duckdb:///bank.duck.db\n",
    "\n",
    "    def run(self, query: str):\n",
    "        result = %sql {{query}}\n",
    "        output = {\n",
    "            \"results\":  f\"{result}\",\n",
    "            \"query\": query,\n",
    "            \n",
    "        }\n",
    "        return output\n",
    "\n",
    "    def run_batch(self, queries: list):\n",
    "        results = []\n",
    "        for query in queries:\n",
    "            result = %sql {query}\n",
    "            output = {\n",
    "                \"results\":  f\"{result}\",\n",
    "                \"query\": query,\n",
    "            }\n",
    "            results.append(output)\n",
    "        return results\n",
    "\n",
    "    \n",
    "jupy_sql_query = JupySQLQuery()"
   ]
  },
  {
   "cell_type": "code",
   "execution_count": null,
   "id": "29dca2a1",
   "metadata": {
    "slideshow": {
     "slide_type": "slide"
    }
   },
   "outputs": [],
   "source": [
    "from haystack.agents import Tool\n",
    "from haystack.nodes import PromptNode\n",
    "from jupysqlagent import sql_agent_prompt\n",
    "from haystack.agents import Agent, Tool\n",
    "\n",
    "jupy_sql_query_tool = Tool(name=\"JupySQL_Query\", \n",
    "                           pipeline_or_node=jupy_sql_query, \n",
    "                           description=\"\"\"This tool is useful for consuming SQL queries \\\n",
    "                                        and responds with the result\"\"\")\n"
   ]
  },
  {
   "cell_type": "code",
   "execution_count": null,
   "id": "dee904a3",
   "metadata": {
    "slideshow": {
     "slide_type": "slide"
    }
   },
   "outputs": [],
   "source": [
    "# Get the API key\n",
    "openai_api_key = os.environ.get(\"openai-key\")\n",
    "chosen_model = \"gpt-4\"\n",
    "\n",
    "\n",
    "# Define a prompt node that uses the GPT-4 model\n",
    "prompt_node = PromptNode(model_name_or_path=chosen_model, \n",
    "                         api_key=openai_api_key, \n",
    "                         stop_words=[\"Observation:\"], \n",
    "                         max_length=1000)\n",
    "\n",
    "# Define the agent\n",
    "agent = Agent(prompt_node=prompt_node, \n",
    "              prompt_template=sql_agent_prompt)\n",
    "\n",
    "agent.add_tool(jupy_sql_query_tool)"
   ]
  },
  {
   "cell_type": "code",
   "execution_count": null,
   "id": "9d317049",
   "metadata": {
    "slideshow": {
     "slide_type": "slide"
    }
   },
   "outputs": [],
   "source": [
    "result = agent.run(\"How many records are there\")\n"
   ]
  },
  {
   "cell_type": "code",
   "execution_count": null,
   "id": "230a7ec6",
   "metadata": {
    "slideshow": {
     "slide_type": "slide"
    }
   },
   "outputs": [],
   "source": [
    "result = agent.run(\"How many unique levels of education are there\")\n"
   ]
  },
  {
   "cell_type": "code",
   "execution_count": null,
   "id": "16c6d1ca",
   "metadata": {
    "slideshow": {
     "slide_type": "slide"
    }
   },
   "outputs": [],
   "source": [
    "result = agent.run(\"How many unique levels of education are there, \\\n",
    "                    what is the average employee age? \")\n"
   ]
  },
  {
   "cell_type": "markdown",
   "id": "0b210a92",
   "metadata": {
    "slideshow": {
     "slide_type": "slide"
    }
   },
   "source": [
    "<h3 align='center'>Pros y contras de LangChain</h3>\n",
    "\n",
    "**Pros**\n",
    "\n",
    "1. Fácil de empezar a usar\n",
    "2. Se mapea fácilmente al punto final de completado de chat de la API de OpenAI\n",
    "3. Puede conectarse fácilmente a una variedad de aplicaciones basadas en tu definición de función\n",
    "\n",
    "\n",
    "**Contras**\n",
    "\n",
    "1. Preocupaciones de seguridad\n",
    "2. Evaluación de resultados\n",
    "3. Despliegue\n",
    "4. La integración con LLMs abiertos y alojados parece estar en etapas iniciales\n",
    "\n",
    "\n",
    "\n"
   ]
  },
  {
   "cell_type": "markdown",
   "id": "0a5ba266",
   "metadata": {
    "slideshow": {
     "slide_type": "slide"
    }
   },
   "source": [
    "<h3 align='center'>Pros y contras de Haystack</h3>\n",
    "\n",
    "**Pros**\n",
    "\n",
    "1. Marco establecido con un enfoque en aplicaciones de NLP listas para producción\n",
    "2. Constantemente se adapta a nuevos cambios y construye sobre su marco de trabajo\n",
    "3. Amigable para el lanzamiento a producción\n",
    "4. Ofrece soluciones para tus documentos personalizados y acceso a una variedad de sabores de base de datos\n",
    "5. Ofrece plantillas de indicaciones\n",
    "6. NLP pipelines listas para ser usadas\n",
    "\n",
    "**Contras**\n",
    "\n",
    "1. Curva de aprendizaje más pronunciada\n",
    "2. La opción de lanzamiento a producción actual es la API REST, pero otras opciones actualmente no están disponibles\n",
    "3. Limitaciones en los tipos de archivos que puede manejar (actualmente no se admiten PDF y markdown)\n",
    "4. Enfoque más estrecho cuando se trata de los tipos de agentes que admite (aunque puedes crear agentes personalizados, a través de nodos personalizados)"
   ]
  },
  {
   "cell_type": "markdown",
   "id": "833d290e",
   "metadata": {
    "slideshow": {
     "slide_type": "slide"
    }
   },
   "source": [
    "<h1 align='center'>Reflexiones finales</h1>\n",
    "\n",
    "* La ingeniería de indicaciones (prompt engineering) comienza con un proyecto bien definido y una elección clara de la arquitectura del transformador\n",
    "* Las indicaciones son generalmente el primer paso al usar un LLM\n",
    "* Las indicaciones a través de la API de OpenAI proporcionan una solución rápida para prototipos, pero tiene limitaciones cuando se trata de datos/documentos privados\n",
    "* Las indicaciones a los LLMs de código abierto requieren la comprensión de la arquitectura del transformador y la apertura para afinar\n",
    "* Exploramos dos marcos de trabajo de código abierto que te permiten aumentar la funcionalidad de los LLMs a través de agentes\n",
    "* LangChain aborda a los agentes a través de componentes y cadenas\n",
    "* Haystack aborda a los agentes en términos de expansión de la funcionalidad de nodos de indicaciones, pipelines y una tienda de documentos."
   ]
  }
 ],
 "metadata": {
  "celltoolbar": "Slideshow",
  "kernelspec": {
   "display_name": "Python-LLM",
   "language": "python",
   "name": "llm-env"
  },
  "language_info": {
   "codemirror_mode": {
    "name": "ipython",
    "version": 3
   },
   "file_extension": ".py",
   "mimetype": "text/x-python",
   "name": "python",
   "nbconvert_exporter": "python",
   "pygments_lexer": "ipython3",
   "version": "3.10.0"
  }
 },
 "nbformat": 4,
 "nbformat_minor": 5
}
