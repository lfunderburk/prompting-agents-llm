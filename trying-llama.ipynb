{
 "cells": [
  {
   "cell_type": "markdown",
   "id": "0ee9df82",
   "metadata": {},
   "source": [
    "https://huggingface.co/VMware/open-llama-13b-open-instruct"
   ]
  },
  {
   "cell_type": "code",
   "execution_count": null,
   "id": "265acf1a",
   "metadata": {},
   "outputs": [
    {
     "data": {
      "application/vnd.jupyter.widget-view+json": {
       "model_id": "015b63eceffe41a7a2efa96be3790d7c",
       "version_major": 2,
       "version_minor": 0
      },
      "text/plain": [
       "Downloading shards:   0%|          | 0/3 [00:00<?, ?it/s]"
      ]
     },
     "metadata": {},
     "output_type": "display_data"
    },
    {
     "data": {
      "application/vnd.jupyter.widget-view+json": {
       "model_id": "e66f586f798643b8af8b817ff3738b88",
       "version_major": 2,
       "version_minor": 0
      },
      "text/plain": [
       "Downloading (…)l-00001-of-00003.bin:   0%|          | 0.00/9.95G [00:00<?, ?B/s]"
      ]
     },
     "metadata": {},
     "output_type": "display_data"
    }
   ],
   "source": [
    "import os\n",
    "import torch\n",
    "from transformers import AutoModelForCausalLM, AutoTokenizer\n",
    "\n",
    "model_name = 'VMware/open-llama-13b-open-instruct'\n",
    "\n",
    "\n",
    "tokenizer = AutoTokenizer.from_pretrained(model_name, use_fast=False)\n",
    "\n",
    "model = AutoModelForCausalLM.from_pretrained(model_name, torch_dtype=torch.float16, device_map='sequential')\n"
   ]
  },
  {
   "cell_type": "code",
   "execution_count": null,
   "id": "af5af49d",
   "metadata": {},
   "outputs": [],
   "source": [
    "prompt_template = \"Below is an instruction that describes a task. Write a response that appropriately completes the request.\\n\\n### Instruction:\\n{instruction}\\n\\n### Response:\"\n",
    "\n",
    "prompt = 'Explain in simple terms how the attention mechanism of a transformer model works'\n",
    "\n",
    "\n",
    "inputt = prompt_template.format(instruction= prompt)\n",
    "input_ids = tokenizer(inputt, return_tensors=\"pt\").input_ids.to(\"cuda\")\n",
    "\n",
    "output1 = model.generate(input_ids, max_length=512)\n",
    "input_length = input_ids.shape[1]\n",
    "output1 = output1[:, input_length:]\n",
    "output = tokenizer.decode(output1[0])\n",
    "\n",
    "print(output)"
   ]
  }
 ],
 "metadata": {
  "kernelspec": {
   "display_name": "Python-LLM",
   "language": "python",
   "name": "llm-env"
  },
  "language_info": {
   "codemirror_mode": {
    "name": "ipython",
    "version": 3
   },
   "file_extension": ".py",
   "mimetype": "text/x-python",
   "name": "python",
   "nbconvert_exporter": "python",
   "pygments_lexer": "ipython3",
   "version": "3.10.0"
  }
 },
 "nbformat": 4,
 "nbformat_minor": 5
}
